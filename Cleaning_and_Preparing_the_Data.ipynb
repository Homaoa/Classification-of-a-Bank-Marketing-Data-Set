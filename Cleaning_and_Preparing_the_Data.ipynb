{
  "nbformat": 4,
  "nbformat_minor": 0,
  "metadata": {
    "colab": {
      "name": "Cleaning and Preparing the Data.ipynb",
      "provenance": [],
      "collapsed_sections": [],
      "authorship_tag": "ABX9TyNp0XJwEsv2tyCDDWy4CvEJ",
      "include_colab_link": true
    },
    "kernelspec": {
      "name": "python3",
      "display_name": "Python 3"
    },
    "language_info": {
      "name": "python"
    }
  },
  "cells": [
    {
      "cell_type": "markdown",
      "metadata": {
        "id": "view-in-github",
        "colab_type": "text"
      },
      "source": [
        "<a href=\"https://colab.research.google.com/github/Homaoa/Classification-of-a-Bank-Marketing-Data-Set/blob/main/Cleaning_and_Preparing_the_Data.ipynb\" target=\"_parent\"><img src=\"https://colab.research.google.com/assets/colab-badge.svg\" alt=\"Open In Colab\"/></a>"
      ]
    },
    {
      "cell_type": "code",
      "metadata": {
        "id": "7MdAeljvDL07"
      },
      "source": [
        "import pandas as pd\n",
        "import numpy as np\n",
        "import matplotlib.pyplot as plt"
      ],
      "execution_count": 47,
      "outputs": []
    },
    {
      "cell_type": "code",
      "metadata": {
        "colab": {
          "base_uri": "https://localhost:8080/",
          "height": 224
        },
        "id": "x45qHODpDVJQ",
        "outputId": "5a179221-c7be-4918-ac1b-4f3a02399ecf"
      },
      "source": [
        "url='/content/bank-additional-full.csv'\n",
        "data=pd.read_csv(url)\n",
        "data.head()"
      ],
      "execution_count": 48,
      "outputs": [
        {
          "output_type": "execute_result",
          "data": {
            "text/html": [
              "<div>\n",
              "<style scoped>\n",
              "    .dataframe tbody tr th:only-of-type {\n",
              "        vertical-align: middle;\n",
              "    }\n",
              "\n",
              "    .dataframe tbody tr th {\n",
              "        vertical-align: top;\n",
              "    }\n",
              "\n",
              "    .dataframe thead th {\n",
              "        text-align: right;\n",
              "    }\n",
              "</style>\n",
              "<table border=\"1\" class=\"dataframe\">\n",
              "  <thead>\n",
              "    <tr style=\"text-align: right;\">\n",
              "      <th></th>\n",
              "      <th>age;\"job\";\"marital\";\"education\";\"default\";\"housing\";\"loan\";\"contact\";\"month\";\"day_of_week\";\"duration\";\"campaign\";\"pdays\";\"previous\";\"poutcome\";\"emp.var.rate\";\"cons.price.idx\";\"cons.conf.idx\";\"euribor3m\";\"nr.employed\";\"y\"</th>\n",
              "    </tr>\n",
              "  </thead>\n",
              "  <tbody>\n",
              "    <tr>\n",
              "      <th>0</th>\n",
              "      <td>56;\"housemaid\";\"married\";\"basic.4y\";\"no\";\"no\";...</td>\n",
              "    </tr>\n",
              "    <tr>\n",
              "      <th>1</th>\n",
              "      <td>57;\"services\";\"married\";\"high.school\";\"unknown...</td>\n",
              "    </tr>\n",
              "    <tr>\n",
              "      <th>2</th>\n",
              "      <td>37;\"services\";\"married\";\"high.school\";\"no\";\"ye...</td>\n",
              "    </tr>\n",
              "    <tr>\n",
              "      <th>3</th>\n",
              "      <td>40;\"admin.\";\"married\";\"basic.6y\";\"no\";\"no\";\"no...</td>\n",
              "    </tr>\n",
              "    <tr>\n",
              "      <th>4</th>\n",
              "      <td>56;\"services\";\"married\";\"high.school\";\"no\";\"no...</td>\n",
              "    </tr>\n",
              "  </tbody>\n",
              "</table>\n",
              "</div>"
            ],
            "text/plain": [
              "  age;\"job\";\"marital\";\"education\";\"default\";\"housing\";\"loan\";\"contact\";\"month\";\"day_of_week\";\"duration\";\"campaign\";\"pdays\";\"previous\";\"poutcome\";\"emp.var.rate\";\"cons.price.idx\";\"cons.conf.idx\";\"euribor3m\";\"nr.employed\";\"y\"\n",
              "0  56;\"housemaid\";\"married\";\"basic.4y\";\"no\";\"no\";...                                                                                                                                                                          \n",
              "1  57;\"services\";\"married\";\"high.school\";\"unknown...                                                                                                                                                                          \n",
              "2  37;\"services\";\"married\";\"high.school\";\"no\";\"ye...                                                                                                                                                                          \n",
              "3  40;\"admin.\";\"married\";\"basic.6y\";\"no\";\"no\";\"no...                                                                                                                                                                          \n",
              "4  56;\"services\";\"married\";\"high.school\";\"no\";\"no...                                                                                                                                                                          "
            ]
          },
          "metadata": {
            "tags": []
          },
          "execution_count": 48
        }
      ]
    },
    {
      "cell_type": "code",
      "metadata": {
        "colab": {
          "base_uri": "https://localhost:8080/"
        },
        "id": "HxXksR5kDmoM",
        "outputId": "7db0dee2-869d-4c20-e8d5-ba094bd9350d"
      },
      "source": [
        "data.info()"
      ],
      "execution_count": 49,
      "outputs": [
        {
          "output_type": "stream",
          "text": [
            "<class 'pandas.core.frame.DataFrame'>\n",
            "RangeIndex: 41188 entries, 0 to 41187\n",
            "Data columns (total 1 columns):\n",
            " #   Column                                                                                                                                                                                                                        Non-Null Count  Dtype \n",
            "---  ------                                                                                                                                                                                                                        --------------  ----- \n",
            " 0   age;\"job\";\"marital\";\"education\";\"default\";\"housing\";\"loan\";\"contact\";\"month\";\"day_of_week\";\"duration\";\"campaign\";\"pdays\";\"previous\";\"poutcome\";\"emp.var.rate\";\"cons.price.idx\";\"cons.conf.idx\";\"euribor3m\";\"nr.employed\";\"y\"  41188 non-null  object\n",
            "dtypes: object(1)\n",
            "memory usage: 321.9+ KB\n"
          ],
          "name": "stdout"
        }
      ]
    },
    {
      "cell_type": "code",
      "metadata": {
        "id": "WXlvMB3CtpIo"
      },
      "source": [
        "#Data from this resource is not prepared. all the data are in one column and the name of this column is the name of all the variables.\n",
        "#I split the data and put them in correct columns with correct headers."
      ],
      "execution_count": 50,
      "outputs": []
    },
    {
      "cell_type": "code",
      "metadata": {
        "colab": {
          "base_uri": "https://localhost:8080/"
        },
        "id": "WyHs0FHv3Y5M",
        "outputId": "b29524dd-b7d7-41c5-910c-17707b3f4dfe"
      },
      "source": [
        "a=data[\n",
        "'age;\"job\";\"marital\";\"education\";\"default\";\"housing\";\"loan\";\"contact\";\"month\";\"day_of_week\";\"duration\";\"campaign\";\"pdays\";\"previous\";\"poutcome\";\"emp.var.rate\";\"cons.price.idx\";\"cons.conf.idx\";\"euribor3m\";\"nr.employed\";\"y\"'][1]\n",
        "print(a)"
      ],
      "execution_count": 51,
      "outputs": [
        {
          "output_type": "stream",
          "text": [
            "57;\"services\";\"married\";\"high.school\";\"unknown\";\"no\";\"no\";\"telephone\";\"may\";\"mon\";149;1;999;0;\"nonexistent\";1.1;93.994;-36.4;4.857;5191;\"no\"\n"
          ],
          "name": "stdout"
        }
      ]
    },
    {
      "cell_type": "code",
      "metadata": {
        "id": "98BjHslFGOHh"
      },
      "source": [
        "age=[]\n",
        "job=[]\n",
        "marital=[]\n",
        "education=[]\n",
        "default=[]\n",
        "housing=[]\n",
        "loan=[]\n",
        "contact=[]\n",
        "month=[]\n",
        "day=[]\n",
        "duration=[]\n",
        "campaign=[]\n",
        "pdays=[]\n",
        "previous=[]\n",
        "poutcome=[]\n",
        "emp_var_rate=[]\n",
        "cons_price_idx=[]\n",
        "cons_conf_idx=[]\n",
        "euribor3m=[]\n",
        "nr_employed=[]\n",
        "decision=[]\n",
        "for i in range(0,41187):\n",
        "  j=str(data['age;\"job\";\"marital\";\"education\";\"default\";\"housing\";\"loan\";\"contact\";\"month\";\"day_of_week\";\"duration\";\"campaign\";\"pdays\";\"previous\";\"poutcome\";\"emp.var.rate\";\"cons.price.idx\";\"cons.conf.idx\";\"euribor3m\";\"nr.employed\";\"y\"'][i])\n",
        "  age.append(j.split(';')[0])\n",
        "  job.append(j.split(';')[1])\n",
        "  marital.append(j.split(';')[2])\n",
        "  education.append(j.split(';')[3])\n",
        "  default.append(j.split(';')[4])\n",
        "  housing.append(j.split(';')[5])\n",
        "  loan.append(j.split(';')[6])\n",
        "  contact.append(j.split(';')[7])\n",
        "  month.append(j.split(';')[8])\n",
        "  day.append(j.split(';')[9])\n",
        "  duration.append(j.split(';')[10])\n",
        "  campaign.append(j.split(';')[11])\n",
        "  pdays.append(j.split(';')[12])\n",
        "  previous.append(j.split(';')[13])\n",
        "  poutcome.append(j.split(';')[14])\n",
        "  emp_var_rate.append(j.split(';')[15])\n",
        "  cons_price_idx.append(j.split(';')[16])\n",
        "  cons_conf_idx.append(j.split(';')[17])\n",
        "  euribor3m.append(j.split(';')[18])\n",
        "  nr_employed.append(j.split(';')[19])\n",
        "  decision.append(j.split(';')[20])\n"
      ],
      "execution_count": 52,
      "outputs": []
    },
    {
      "cell_type": "code",
      "metadata": {
        "colab": {
          "base_uri": "https://localhost:8080/",
          "height": 224
        },
        "id": "Y-ib3WqmkKyk",
        "outputId": "5a5c472c-312c-4a73-f0d3-03ed83dc5782"
      },
      "source": [
        "data_organized = {'Age':age,'Job':job,'Marital':marital,'Education':education,'Default':default,'Housing':housing,'Loan':loan,'Contact':contact,\n",
        "        'Month':month,'Day':day,'Duration':duration,'Campaign':campaign,'Pdays':pdays,'Previous':previous,'Poutcome':poutcome,\n",
        "        'Emp_var_rate':emp_var_rate,'Cons_price_idx':cons_price_idx,'Cons_conf_idx':cons_conf_idx,'Euribor3m':euribor3m,'Nr_employed':nr_employed,'Decision':decision}\n",
        "df = pd.DataFrame(data_organized)\n",
        "df.head()"
      ],
      "execution_count": 53,
      "outputs": [
        {
          "output_type": "execute_result",
          "data": {
            "text/html": [
              "<div>\n",
              "<style scoped>\n",
              "    .dataframe tbody tr th:only-of-type {\n",
              "        vertical-align: middle;\n",
              "    }\n",
              "\n",
              "    .dataframe tbody tr th {\n",
              "        vertical-align: top;\n",
              "    }\n",
              "\n",
              "    .dataframe thead th {\n",
              "        text-align: right;\n",
              "    }\n",
              "</style>\n",
              "<table border=\"1\" class=\"dataframe\">\n",
              "  <thead>\n",
              "    <tr style=\"text-align: right;\">\n",
              "      <th></th>\n",
              "      <th>Age</th>\n",
              "      <th>Job</th>\n",
              "      <th>Marital</th>\n",
              "      <th>Education</th>\n",
              "      <th>Default</th>\n",
              "      <th>Housing</th>\n",
              "      <th>Loan</th>\n",
              "      <th>Contact</th>\n",
              "      <th>Month</th>\n",
              "      <th>Day</th>\n",
              "      <th>Duration</th>\n",
              "      <th>Campaign</th>\n",
              "      <th>Pdays</th>\n",
              "      <th>Previous</th>\n",
              "      <th>Poutcome</th>\n",
              "      <th>Emp_var_rate</th>\n",
              "      <th>Cons_price_idx</th>\n",
              "      <th>Cons_conf_idx</th>\n",
              "      <th>Euribor3m</th>\n",
              "      <th>Nr_employed</th>\n",
              "      <th>Decision</th>\n",
              "    </tr>\n",
              "  </thead>\n",
              "  <tbody>\n",
              "    <tr>\n",
              "      <th>0</th>\n",
              "      <td>56</td>\n",
              "      <td>\"housemaid\"</td>\n",
              "      <td>\"married\"</td>\n",
              "      <td>\"basic.4y\"</td>\n",
              "      <td>\"no\"</td>\n",
              "      <td>\"no\"</td>\n",
              "      <td>\"no\"</td>\n",
              "      <td>\"telephone\"</td>\n",
              "      <td>\"may\"</td>\n",
              "      <td>\"mon\"</td>\n",
              "      <td>261</td>\n",
              "      <td>1</td>\n",
              "      <td>999</td>\n",
              "      <td>0</td>\n",
              "      <td>\"nonexistent\"</td>\n",
              "      <td>1.1</td>\n",
              "      <td>93.994</td>\n",
              "      <td>-36.4</td>\n",
              "      <td>4.857</td>\n",
              "      <td>5191</td>\n",
              "      <td>\"no\"</td>\n",
              "    </tr>\n",
              "    <tr>\n",
              "      <th>1</th>\n",
              "      <td>57</td>\n",
              "      <td>\"services\"</td>\n",
              "      <td>\"married\"</td>\n",
              "      <td>\"high.school\"</td>\n",
              "      <td>\"unknown\"</td>\n",
              "      <td>\"no\"</td>\n",
              "      <td>\"no\"</td>\n",
              "      <td>\"telephone\"</td>\n",
              "      <td>\"may\"</td>\n",
              "      <td>\"mon\"</td>\n",
              "      <td>149</td>\n",
              "      <td>1</td>\n",
              "      <td>999</td>\n",
              "      <td>0</td>\n",
              "      <td>\"nonexistent\"</td>\n",
              "      <td>1.1</td>\n",
              "      <td>93.994</td>\n",
              "      <td>-36.4</td>\n",
              "      <td>4.857</td>\n",
              "      <td>5191</td>\n",
              "      <td>\"no\"</td>\n",
              "    </tr>\n",
              "    <tr>\n",
              "      <th>2</th>\n",
              "      <td>37</td>\n",
              "      <td>\"services\"</td>\n",
              "      <td>\"married\"</td>\n",
              "      <td>\"high.school\"</td>\n",
              "      <td>\"no\"</td>\n",
              "      <td>\"yes\"</td>\n",
              "      <td>\"no\"</td>\n",
              "      <td>\"telephone\"</td>\n",
              "      <td>\"may\"</td>\n",
              "      <td>\"mon\"</td>\n",
              "      <td>226</td>\n",
              "      <td>1</td>\n",
              "      <td>999</td>\n",
              "      <td>0</td>\n",
              "      <td>\"nonexistent\"</td>\n",
              "      <td>1.1</td>\n",
              "      <td>93.994</td>\n",
              "      <td>-36.4</td>\n",
              "      <td>4.857</td>\n",
              "      <td>5191</td>\n",
              "      <td>\"no\"</td>\n",
              "    </tr>\n",
              "    <tr>\n",
              "      <th>3</th>\n",
              "      <td>40</td>\n",
              "      <td>\"admin.\"</td>\n",
              "      <td>\"married\"</td>\n",
              "      <td>\"basic.6y\"</td>\n",
              "      <td>\"no\"</td>\n",
              "      <td>\"no\"</td>\n",
              "      <td>\"no\"</td>\n",
              "      <td>\"telephone\"</td>\n",
              "      <td>\"may\"</td>\n",
              "      <td>\"mon\"</td>\n",
              "      <td>151</td>\n",
              "      <td>1</td>\n",
              "      <td>999</td>\n",
              "      <td>0</td>\n",
              "      <td>\"nonexistent\"</td>\n",
              "      <td>1.1</td>\n",
              "      <td>93.994</td>\n",
              "      <td>-36.4</td>\n",
              "      <td>4.857</td>\n",
              "      <td>5191</td>\n",
              "      <td>\"no\"</td>\n",
              "    </tr>\n",
              "    <tr>\n",
              "      <th>4</th>\n",
              "      <td>56</td>\n",
              "      <td>\"services\"</td>\n",
              "      <td>\"married\"</td>\n",
              "      <td>\"high.school\"</td>\n",
              "      <td>\"no\"</td>\n",
              "      <td>\"no\"</td>\n",
              "      <td>\"yes\"</td>\n",
              "      <td>\"telephone\"</td>\n",
              "      <td>\"may\"</td>\n",
              "      <td>\"mon\"</td>\n",
              "      <td>307</td>\n",
              "      <td>1</td>\n",
              "      <td>999</td>\n",
              "      <td>0</td>\n",
              "      <td>\"nonexistent\"</td>\n",
              "      <td>1.1</td>\n",
              "      <td>93.994</td>\n",
              "      <td>-36.4</td>\n",
              "      <td>4.857</td>\n",
              "      <td>5191</td>\n",
              "      <td>\"no\"</td>\n",
              "    </tr>\n",
              "  </tbody>\n",
              "</table>\n",
              "</div>"
            ],
            "text/plain": [
              "  Age          Job    Marital  ... Euribor3m Nr_employed Decision\n",
              "0  56  \"housemaid\"  \"married\"  ...     4.857        5191     \"no\"\n",
              "1  57   \"services\"  \"married\"  ...     4.857        5191     \"no\"\n",
              "2  37   \"services\"  \"married\"  ...     4.857        5191     \"no\"\n",
              "3  40     \"admin.\"  \"married\"  ...     4.857        5191     \"no\"\n",
              "4  56   \"services\"  \"married\"  ...     4.857        5191     \"no\"\n",
              "\n",
              "[5 rows x 21 columns]"
            ]
          },
          "metadata": {
            "tags": []
          },
          "execution_count": 53
        }
      ]
    },
    {
      "cell_type": "code",
      "metadata": {
        "id": "kdta9s_G3ADs",
        "colab": {
          "base_uri": "https://localhost:8080/"
        },
        "outputId": "f06585d6-f2d8-43a9-bf18-891c2291ddfc"
      },
      "source": [
        "df.info()"
      ],
      "execution_count": 54,
      "outputs": [
        {
          "output_type": "stream",
          "text": [
            "<class 'pandas.core.frame.DataFrame'>\n",
            "RangeIndex: 41187 entries, 0 to 41186\n",
            "Data columns (total 21 columns):\n",
            " #   Column          Non-Null Count  Dtype \n",
            "---  ------          --------------  ----- \n",
            " 0   Age             41187 non-null  object\n",
            " 1   Job             41187 non-null  object\n",
            " 2   Marital         41187 non-null  object\n",
            " 3   Education       41187 non-null  object\n",
            " 4   Default         41187 non-null  object\n",
            " 5   Housing         41187 non-null  object\n",
            " 6   Loan            41187 non-null  object\n",
            " 7   Contact         41187 non-null  object\n",
            " 8   Month           41187 non-null  object\n",
            " 9   Day             41187 non-null  object\n",
            " 10  Duration        41187 non-null  object\n",
            " 11  Campaign        41187 non-null  object\n",
            " 12  Pdays           41187 non-null  object\n",
            " 13  Previous        41187 non-null  object\n",
            " 14  Poutcome        41187 non-null  object\n",
            " 15  Emp_var_rate    41187 non-null  object\n",
            " 16  Cons_price_idx  41187 non-null  object\n",
            " 17  Cons_conf_idx   41187 non-null  object\n",
            " 18  Euribor3m       41187 non-null  object\n",
            " 19  Nr_employed     41187 non-null  object\n",
            " 20  Decision        41187 non-null  object\n",
            "dtypes: object(21)\n",
            "memory usage: 6.6+ MB\n"
          ],
          "name": "stdout"
        }
      ]
    },
    {
      "cell_type": "code",
      "metadata": {
        "id": "ysCQRzGLwlRX"
      },
      "source": [
        "#The type of all the variables are object, some of them should be integers or floats. I correct the type of the variables"
      ],
      "execution_count": 55,
      "outputs": []
    },
    {
      "cell_type": "code",
      "metadata": {
        "id": "AR0NqrU7kcYg"
      },
      "source": [
        "df['Age']=df['Age'].astype('int')\n",
        "df['Duration']=df['Duration'].astype('int')\n",
        "df['Campaign']=df['Campaign'].astype('int')\n",
        "df['Previous']=df['Previous'].astype('int')\n",
        "df['Emp_var_rate']=df['Emp_var_rate'].astype('float')\n",
        "df['Cons_price_idx']=df['Cons_price_idx'].astype('float')\n",
        "df['Cons_conf_idx']=df['Cons_conf_idx'].astype('float')\n",
        "df['Euribor3m']=df['Euribor3m'].astype('float')\n",
        "df['Nr_employed']=df['Nr_employed'].astype('float')"
      ],
      "execution_count": 56,
      "outputs": []
    },
    {
      "cell_type": "code",
      "metadata": {
        "id": "BASWdWrxAzhv"
      },
      "source": [
        "#Variable Pdays means the number of days since the last call from the bank to a customer. Many customers have never been called before.\n",
        "#The raw data set put 999 as Pdays for people who have never been called before. But giving this variable to the model like that is not wise.\n",
        "#Because the model will consider 999 an int number, not a way of saying that the customer was not called before.\n",
        "#To solve this problem, I decided to make Pdays a categorical variable, and observarions with 999 means they were never called before, not that \n",
        "#they were called 999 days ago. "
      ],
      "execution_count": 57,
      "outputs": []
    },
    {
      "cell_type": "code",
      "metadata": {
        "colab": {
          "base_uri": "https://localhost:8080/"
        },
        "id": "0yHpZAM-Ozbe",
        "outputId": "d8cfb468-582d-4cc4-dc43-6a958b9b28a1"
      },
      "source": [
        "df['Pdays'].replace('999','Never been called before')"
      ],
      "execution_count": 58,
      "outputs": [
        {
          "output_type": "execute_result",
          "data": {
            "text/plain": [
              "0        Never been called before\n",
              "1        Never been called before\n",
              "2        Never been called before\n",
              "3        Never been called before\n",
              "4        Never been called before\n",
              "                   ...           \n",
              "41182                           9\n",
              "41183    Never been called before\n",
              "41184    Never been called before\n",
              "41185    Never been called before\n",
              "41186    Never been called before\n",
              "Name: Pdays, Length: 41187, dtype: object"
            ]
          },
          "metadata": {
            "tags": []
          },
          "execution_count": 58
        }
      ]
    },
    {
      "cell_type": "code",
      "metadata": {
        "id": "DRZTUkYCQdtw"
      },
      "source": [
        "#Based on the basic information that was provided by the data collectors, the variable Duration is a variable that sees the future.\n",
        "#Meaning that  this attribute highly affects the output target.\n",
        "#Yet, the duration is not known before a call is performed. Also, after the end of the call Decision is obviously known.\n",
        "#Thus, this input should be discarded if the intention is to have a realistic predictive model."
      ],
      "execution_count": 59,
      "outputs": []
    },
    {
      "cell_type": "code",
      "metadata": {
        "colab": {
          "base_uri": "https://localhost:8080/",
          "height": 439
        },
        "id": "Jxr9qvBviyYX",
        "outputId": "382bd1ed-a911-41de-cdf1-c0b8d6ee9757"
      },
      "source": [
        "df.drop(['Duration'], axis = 1)"
      ],
      "execution_count": 60,
      "outputs": [
        {
          "output_type": "execute_result",
          "data": {
            "text/html": [
              "<div>\n",
              "<style scoped>\n",
              "    .dataframe tbody tr th:only-of-type {\n",
              "        vertical-align: middle;\n",
              "    }\n",
              "\n",
              "    .dataframe tbody tr th {\n",
              "        vertical-align: top;\n",
              "    }\n",
              "\n",
              "    .dataframe thead th {\n",
              "        text-align: right;\n",
              "    }\n",
              "</style>\n",
              "<table border=\"1\" class=\"dataframe\">\n",
              "  <thead>\n",
              "    <tr style=\"text-align: right;\">\n",
              "      <th></th>\n",
              "      <th>Age</th>\n",
              "      <th>Job</th>\n",
              "      <th>Marital</th>\n",
              "      <th>Education</th>\n",
              "      <th>Default</th>\n",
              "      <th>Housing</th>\n",
              "      <th>Loan</th>\n",
              "      <th>Contact</th>\n",
              "      <th>Month</th>\n",
              "      <th>Day</th>\n",
              "      <th>Campaign</th>\n",
              "      <th>Pdays</th>\n",
              "      <th>Previous</th>\n",
              "      <th>Poutcome</th>\n",
              "      <th>Emp_var_rate</th>\n",
              "      <th>Cons_price_idx</th>\n",
              "      <th>Cons_conf_idx</th>\n",
              "      <th>Euribor3m</th>\n",
              "      <th>Nr_employed</th>\n",
              "      <th>Decision</th>\n",
              "    </tr>\n",
              "  </thead>\n",
              "  <tbody>\n",
              "    <tr>\n",
              "      <th>0</th>\n",
              "      <td>56</td>\n",
              "      <td>\"housemaid\"</td>\n",
              "      <td>\"married\"</td>\n",
              "      <td>\"basic.4y\"</td>\n",
              "      <td>\"no\"</td>\n",
              "      <td>\"no\"</td>\n",
              "      <td>\"no\"</td>\n",
              "      <td>\"telephone\"</td>\n",
              "      <td>\"may\"</td>\n",
              "      <td>\"mon\"</td>\n",
              "      <td>1</td>\n",
              "      <td>999</td>\n",
              "      <td>0</td>\n",
              "      <td>\"nonexistent\"</td>\n",
              "      <td>1.1</td>\n",
              "      <td>93.994</td>\n",
              "      <td>-36.4</td>\n",
              "      <td>4.857</td>\n",
              "      <td>5191.0</td>\n",
              "      <td>\"no\"</td>\n",
              "    </tr>\n",
              "    <tr>\n",
              "      <th>1</th>\n",
              "      <td>57</td>\n",
              "      <td>\"services\"</td>\n",
              "      <td>\"married\"</td>\n",
              "      <td>\"high.school\"</td>\n",
              "      <td>\"unknown\"</td>\n",
              "      <td>\"no\"</td>\n",
              "      <td>\"no\"</td>\n",
              "      <td>\"telephone\"</td>\n",
              "      <td>\"may\"</td>\n",
              "      <td>\"mon\"</td>\n",
              "      <td>1</td>\n",
              "      <td>999</td>\n",
              "      <td>0</td>\n",
              "      <td>\"nonexistent\"</td>\n",
              "      <td>1.1</td>\n",
              "      <td>93.994</td>\n",
              "      <td>-36.4</td>\n",
              "      <td>4.857</td>\n",
              "      <td>5191.0</td>\n",
              "      <td>\"no\"</td>\n",
              "    </tr>\n",
              "    <tr>\n",
              "      <th>2</th>\n",
              "      <td>37</td>\n",
              "      <td>\"services\"</td>\n",
              "      <td>\"married\"</td>\n",
              "      <td>\"high.school\"</td>\n",
              "      <td>\"no\"</td>\n",
              "      <td>\"yes\"</td>\n",
              "      <td>\"no\"</td>\n",
              "      <td>\"telephone\"</td>\n",
              "      <td>\"may\"</td>\n",
              "      <td>\"mon\"</td>\n",
              "      <td>1</td>\n",
              "      <td>999</td>\n",
              "      <td>0</td>\n",
              "      <td>\"nonexistent\"</td>\n",
              "      <td>1.1</td>\n",
              "      <td>93.994</td>\n",
              "      <td>-36.4</td>\n",
              "      <td>4.857</td>\n",
              "      <td>5191.0</td>\n",
              "      <td>\"no\"</td>\n",
              "    </tr>\n",
              "    <tr>\n",
              "      <th>3</th>\n",
              "      <td>40</td>\n",
              "      <td>\"admin.\"</td>\n",
              "      <td>\"married\"</td>\n",
              "      <td>\"basic.6y\"</td>\n",
              "      <td>\"no\"</td>\n",
              "      <td>\"no\"</td>\n",
              "      <td>\"no\"</td>\n",
              "      <td>\"telephone\"</td>\n",
              "      <td>\"may\"</td>\n",
              "      <td>\"mon\"</td>\n",
              "      <td>1</td>\n",
              "      <td>999</td>\n",
              "      <td>0</td>\n",
              "      <td>\"nonexistent\"</td>\n",
              "      <td>1.1</td>\n",
              "      <td>93.994</td>\n",
              "      <td>-36.4</td>\n",
              "      <td>4.857</td>\n",
              "      <td>5191.0</td>\n",
              "      <td>\"no\"</td>\n",
              "    </tr>\n",
              "    <tr>\n",
              "      <th>4</th>\n",
              "      <td>56</td>\n",
              "      <td>\"services\"</td>\n",
              "      <td>\"married\"</td>\n",
              "      <td>\"high.school\"</td>\n",
              "      <td>\"no\"</td>\n",
              "      <td>\"no\"</td>\n",
              "      <td>\"yes\"</td>\n",
              "      <td>\"telephone\"</td>\n",
              "      <td>\"may\"</td>\n",
              "      <td>\"mon\"</td>\n",
              "      <td>1</td>\n",
              "      <td>999</td>\n",
              "      <td>0</td>\n",
              "      <td>\"nonexistent\"</td>\n",
              "      <td>1.1</td>\n",
              "      <td>93.994</td>\n",
              "      <td>-36.4</td>\n",
              "      <td>4.857</td>\n",
              "      <td>5191.0</td>\n",
              "      <td>\"no\"</td>\n",
              "    </tr>\n",
              "    <tr>\n",
              "      <th>...</th>\n",
              "      <td>...</td>\n",
              "      <td>...</td>\n",
              "      <td>...</td>\n",
              "      <td>...</td>\n",
              "      <td>...</td>\n",
              "      <td>...</td>\n",
              "      <td>...</td>\n",
              "      <td>...</td>\n",
              "      <td>...</td>\n",
              "      <td>...</td>\n",
              "      <td>...</td>\n",
              "      <td>...</td>\n",
              "      <td>...</td>\n",
              "      <td>...</td>\n",
              "      <td>...</td>\n",
              "      <td>...</td>\n",
              "      <td>...</td>\n",
              "      <td>...</td>\n",
              "      <td>...</td>\n",
              "      <td>...</td>\n",
              "    </tr>\n",
              "    <tr>\n",
              "      <th>41182</th>\n",
              "      <td>29</td>\n",
              "      <td>\"unemployed\"</td>\n",
              "      <td>\"single\"</td>\n",
              "      <td>\"basic.4y\"</td>\n",
              "      <td>\"no\"</td>\n",
              "      <td>\"yes\"</td>\n",
              "      <td>\"no\"</td>\n",
              "      <td>\"cellular\"</td>\n",
              "      <td>\"nov\"</td>\n",
              "      <td>\"fri\"</td>\n",
              "      <td>1</td>\n",
              "      <td>9</td>\n",
              "      <td>1</td>\n",
              "      <td>\"success\"</td>\n",
              "      <td>-1.1</td>\n",
              "      <td>94.767</td>\n",
              "      <td>-50.8</td>\n",
              "      <td>1.028</td>\n",
              "      <td>4963.6</td>\n",
              "      <td>\"no\"</td>\n",
              "    </tr>\n",
              "    <tr>\n",
              "      <th>41183</th>\n",
              "      <td>73</td>\n",
              "      <td>\"retired\"</td>\n",
              "      <td>\"married\"</td>\n",
              "      <td>\"professional.course\"</td>\n",
              "      <td>\"no\"</td>\n",
              "      <td>\"yes\"</td>\n",
              "      <td>\"no\"</td>\n",
              "      <td>\"cellular\"</td>\n",
              "      <td>\"nov\"</td>\n",
              "      <td>\"fri\"</td>\n",
              "      <td>1</td>\n",
              "      <td>999</td>\n",
              "      <td>0</td>\n",
              "      <td>\"nonexistent\"</td>\n",
              "      <td>-1.1</td>\n",
              "      <td>94.767</td>\n",
              "      <td>-50.8</td>\n",
              "      <td>1.028</td>\n",
              "      <td>4963.6</td>\n",
              "      <td>\"yes\"</td>\n",
              "    </tr>\n",
              "    <tr>\n",
              "      <th>41184</th>\n",
              "      <td>46</td>\n",
              "      <td>\"blue-collar\"</td>\n",
              "      <td>\"married\"</td>\n",
              "      <td>\"professional.course\"</td>\n",
              "      <td>\"no\"</td>\n",
              "      <td>\"no\"</td>\n",
              "      <td>\"no\"</td>\n",
              "      <td>\"cellular\"</td>\n",
              "      <td>\"nov\"</td>\n",
              "      <td>\"fri\"</td>\n",
              "      <td>1</td>\n",
              "      <td>999</td>\n",
              "      <td>0</td>\n",
              "      <td>\"nonexistent\"</td>\n",
              "      <td>-1.1</td>\n",
              "      <td>94.767</td>\n",
              "      <td>-50.8</td>\n",
              "      <td>1.028</td>\n",
              "      <td>4963.6</td>\n",
              "      <td>\"no\"</td>\n",
              "    </tr>\n",
              "    <tr>\n",
              "      <th>41185</th>\n",
              "      <td>56</td>\n",
              "      <td>\"retired\"</td>\n",
              "      <td>\"married\"</td>\n",
              "      <td>\"university.degree\"</td>\n",
              "      <td>\"no\"</td>\n",
              "      <td>\"yes\"</td>\n",
              "      <td>\"no\"</td>\n",
              "      <td>\"cellular\"</td>\n",
              "      <td>\"nov\"</td>\n",
              "      <td>\"fri\"</td>\n",
              "      <td>2</td>\n",
              "      <td>999</td>\n",
              "      <td>0</td>\n",
              "      <td>\"nonexistent\"</td>\n",
              "      <td>-1.1</td>\n",
              "      <td>94.767</td>\n",
              "      <td>-50.8</td>\n",
              "      <td>1.028</td>\n",
              "      <td>4963.6</td>\n",
              "      <td>\"no\"</td>\n",
              "    </tr>\n",
              "    <tr>\n",
              "      <th>41186</th>\n",
              "      <td>44</td>\n",
              "      <td>\"technician\"</td>\n",
              "      <td>\"married\"</td>\n",
              "      <td>\"professional.course\"</td>\n",
              "      <td>\"no\"</td>\n",
              "      <td>\"no\"</td>\n",
              "      <td>\"no\"</td>\n",
              "      <td>\"cellular\"</td>\n",
              "      <td>\"nov\"</td>\n",
              "      <td>\"fri\"</td>\n",
              "      <td>1</td>\n",
              "      <td>999</td>\n",
              "      <td>0</td>\n",
              "      <td>\"nonexistent\"</td>\n",
              "      <td>-1.1</td>\n",
              "      <td>94.767</td>\n",
              "      <td>-50.8</td>\n",
              "      <td>1.028</td>\n",
              "      <td>4963.6</td>\n",
              "      <td>\"yes\"</td>\n",
              "    </tr>\n",
              "  </tbody>\n",
              "</table>\n",
              "<p>41187 rows × 20 columns</p>\n",
              "</div>"
            ],
            "text/plain": [
              "       Age            Job    Marital  ... Euribor3m Nr_employed Decision\n",
              "0       56    \"housemaid\"  \"married\"  ...     4.857      5191.0     \"no\"\n",
              "1       57     \"services\"  \"married\"  ...     4.857      5191.0     \"no\"\n",
              "2       37     \"services\"  \"married\"  ...     4.857      5191.0     \"no\"\n",
              "3       40       \"admin.\"  \"married\"  ...     4.857      5191.0     \"no\"\n",
              "4       56     \"services\"  \"married\"  ...     4.857      5191.0     \"no\"\n",
              "...    ...            ...        ...  ...       ...         ...      ...\n",
              "41182   29   \"unemployed\"   \"single\"  ...     1.028      4963.6     \"no\"\n",
              "41183   73      \"retired\"  \"married\"  ...     1.028      4963.6    \"yes\"\n",
              "41184   46  \"blue-collar\"  \"married\"  ...     1.028      4963.6     \"no\"\n",
              "41185   56      \"retired\"  \"married\"  ...     1.028      4963.6     \"no\"\n",
              "41186   44   \"technician\"  \"married\"  ...     1.028      4963.6    \"yes\"\n",
              "\n",
              "[41187 rows x 20 columns]"
            ]
          },
          "metadata": {
            "tags": []
          },
          "execution_count": 60
        }
      ]
    },
    {
      "cell_type": "code",
      "metadata": {
        "colab": {
          "base_uri": "https://localhost:8080/"
        },
        "id": "5A1jB6pTi8oB",
        "outputId": "34997abe-e11f-4a12-f2af-5d9989eeffb6"
      },
      "source": [
        "df.info()"
      ],
      "execution_count": 61,
      "outputs": [
        {
          "output_type": "stream",
          "text": [
            "<class 'pandas.core.frame.DataFrame'>\n",
            "RangeIndex: 41187 entries, 0 to 41186\n",
            "Data columns (total 21 columns):\n",
            " #   Column          Non-Null Count  Dtype  \n",
            "---  ------          --------------  -----  \n",
            " 0   Age             41187 non-null  int64  \n",
            " 1   Job             41187 non-null  object \n",
            " 2   Marital         41187 non-null  object \n",
            " 3   Education       41187 non-null  object \n",
            " 4   Default         41187 non-null  object \n",
            " 5   Housing         41187 non-null  object \n",
            " 6   Loan            41187 non-null  object \n",
            " 7   Contact         41187 non-null  object \n",
            " 8   Month           41187 non-null  object \n",
            " 9   Day             41187 non-null  object \n",
            " 10  Duration        41187 non-null  int64  \n",
            " 11  Campaign        41187 non-null  int64  \n",
            " 12  Pdays           41187 non-null  object \n",
            " 13  Previous        41187 non-null  int64  \n",
            " 14  Poutcome        41187 non-null  object \n",
            " 15  Emp_var_rate    41187 non-null  float64\n",
            " 16  Cons_price_idx  41187 non-null  float64\n",
            " 17  Cons_conf_idx   41187 non-null  float64\n",
            " 18  Euribor3m       41187 non-null  float64\n",
            " 19  Nr_employed     41187 non-null  float64\n",
            " 20  Decision        41187 non-null  object \n",
            "dtypes: float64(5), int64(4), object(12)\n",
            "memory usage: 6.6+ MB\n"
          ],
          "name": "stdout"
        }
      ]
    },
    {
      "cell_type": "code",
      "metadata": {
        "id": "F2LlMqU5nzQG"
      },
      "source": [
        "df.to_csv('bank_marketing_cleaned_data.csv')"
      ],
      "execution_count": 63,
      "outputs": []
    }
  ]
}