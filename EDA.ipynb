{
  "nbformat": 4,
  "nbformat_minor": 0,
  "metadata": {
    "colab": {
      "name": "EDA.ipynb",
      "provenance": [],
      "collapsed_sections": [],
      "authorship_tag": "ABX9TyOsS3cH8EpuKebMA3xz7QXj",
      "include_colab_link": true
    },
    "kernelspec": {
      "name": "python3",
      "display_name": "Python 3"
    },
    "language_info": {
      "name": "python"
    }
  },
  "cells": [
    {
      "cell_type": "markdown",
      "metadata": {
        "id": "view-in-github",
        "colab_type": "text"
      },
      "source": [
        "<a href=\"https://colab.research.google.com/github/Homaoa/Classification-of-a-Bank-Marketing-Data-Set/blob/main/EDA.ipynb\" target=\"_parent\"><img src=\"https://colab.research.google.com/assets/colab-badge.svg\" alt=\"Open In Colab\"/></a>"
      ]
    },
    {
      "cell_type": "code",
      "metadata": {
        "id": "kmFxgGMKkwtd"
      },
      "source": [
        "import pandas as pd\n",
        "import numpy as np\n",
        "import matplotlib.pyplot as plt\n",
        "import seaborn as sns\n",
        "from scipy.stats import chi2_contingency"
      ],
      "execution_count": null,
      "outputs": []
    },
    {
      "cell_type": "code",
      "metadata": {
        "id": "0bJyE5lUlAp4",
        "colab": {
          "base_uri": "https://localhost:8080/",
          "height": 241
        },
        "outputId": "114d305c-9aa7-4b44-ab70-f18e99715355"
      },
      "source": [
        "url='/content/bank_marketing_cleaned_data.csv'\n",
        "df=pd.read_csv(url)\n",
        "df.head()"
      ],
      "execution_count": null,
      "outputs": [
        {
          "output_type": "execute_result",
          "data": {
            "text/html": [
              "<div>\n",
              "<style scoped>\n",
              "    .dataframe tbody tr th:only-of-type {\n",
              "        vertical-align: middle;\n",
              "    }\n",
              "\n",
              "    .dataframe tbody tr th {\n",
              "        vertical-align: top;\n",
              "    }\n",
              "\n",
              "    .dataframe thead th {\n",
              "        text-align: right;\n",
              "    }\n",
              "</style>\n",
              "<table border=\"1\" class=\"dataframe\">\n",
              "  <thead>\n",
              "    <tr style=\"text-align: right;\">\n",
              "      <th></th>\n",
              "      <th>Unnamed: 0</th>\n",
              "      <th>Age</th>\n",
              "      <th>Job</th>\n",
              "      <th>Marital</th>\n",
              "      <th>Education</th>\n",
              "      <th>Default</th>\n",
              "      <th>Housing</th>\n",
              "      <th>Loan</th>\n",
              "      <th>Contact</th>\n",
              "      <th>Month</th>\n",
              "      <th>Day</th>\n",
              "      <th>Campaign</th>\n",
              "      <th>Pdays</th>\n",
              "      <th>Previous</th>\n",
              "      <th>Poutcome</th>\n",
              "      <th>Emp_var_rate</th>\n",
              "      <th>Cons_price_idx</th>\n",
              "      <th>Cons_conf_idx</th>\n",
              "      <th>Euribor3m</th>\n",
              "      <th>Nr_employed</th>\n",
              "      <th>Decision</th>\n",
              "    </tr>\n",
              "  </thead>\n",
              "  <tbody>\n",
              "    <tr>\n",
              "      <th>0</th>\n",
              "      <td>0</td>\n",
              "      <td>56</td>\n",
              "      <td>\"housemaid\"</td>\n",
              "      <td>\"married\"</td>\n",
              "      <td>\"basic.4y\"</td>\n",
              "      <td>\"no\"</td>\n",
              "      <td>\"no\"</td>\n",
              "      <td>\"no\"</td>\n",
              "      <td>\"telephone\"</td>\n",
              "      <td>\"may\"</td>\n",
              "      <td>\"mon\"</td>\n",
              "      <td>1</td>\n",
              "      <td>999</td>\n",
              "      <td>0</td>\n",
              "      <td>\"nonexistent\"</td>\n",
              "      <td>1.1</td>\n",
              "      <td>93.994</td>\n",
              "      <td>-36.4</td>\n",
              "      <td>4.857</td>\n",
              "      <td>5191.0</td>\n",
              "      <td>\"no\"</td>\n",
              "    </tr>\n",
              "    <tr>\n",
              "      <th>1</th>\n",
              "      <td>1</td>\n",
              "      <td>57</td>\n",
              "      <td>\"services\"</td>\n",
              "      <td>\"married\"</td>\n",
              "      <td>\"high.school\"</td>\n",
              "      <td>\"unknown\"</td>\n",
              "      <td>\"no\"</td>\n",
              "      <td>\"no\"</td>\n",
              "      <td>\"telephone\"</td>\n",
              "      <td>\"may\"</td>\n",
              "      <td>\"mon\"</td>\n",
              "      <td>1</td>\n",
              "      <td>999</td>\n",
              "      <td>0</td>\n",
              "      <td>\"nonexistent\"</td>\n",
              "      <td>1.1</td>\n",
              "      <td>93.994</td>\n",
              "      <td>-36.4</td>\n",
              "      <td>4.857</td>\n",
              "      <td>5191.0</td>\n",
              "      <td>\"no\"</td>\n",
              "    </tr>\n",
              "    <tr>\n",
              "      <th>2</th>\n",
              "      <td>2</td>\n",
              "      <td>37</td>\n",
              "      <td>\"services\"</td>\n",
              "      <td>\"married\"</td>\n",
              "      <td>\"high.school\"</td>\n",
              "      <td>\"no\"</td>\n",
              "      <td>\"yes\"</td>\n",
              "      <td>\"no\"</td>\n",
              "      <td>\"telephone\"</td>\n",
              "      <td>\"may\"</td>\n",
              "      <td>\"mon\"</td>\n",
              "      <td>1</td>\n",
              "      <td>999</td>\n",
              "      <td>0</td>\n",
              "      <td>\"nonexistent\"</td>\n",
              "      <td>1.1</td>\n",
              "      <td>93.994</td>\n",
              "      <td>-36.4</td>\n",
              "      <td>4.857</td>\n",
              "      <td>5191.0</td>\n",
              "      <td>\"no\"</td>\n",
              "    </tr>\n",
              "    <tr>\n",
              "      <th>3</th>\n",
              "      <td>3</td>\n",
              "      <td>40</td>\n",
              "      <td>\"admin.\"</td>\n",
              "      <td>\"married\"</td>\n",
              "      <td>\"basic.6y\"</td>\n",
              "      <td>\"no\"</td>\n",
              "      <td>\"no\"</td>\n",
              "      <td>\"no\"</td>\n",
              "      <td>\"telephone\"</td>\n",
              "      <td>\"may\"</td>\n",
              "      <td>\"mon\"</td>\n",
              "      <td>1</td>\n",
              "      <td>999</td>\n",
              "      <td>0</td>\n",
              "      <td>\"nonexistent\"</td>\n",
              "      <td>1.1</td>\n",
              "      <td>93.994</td>\n",
              "      <td>-36.4</td>\n",
              "      <td>4.857</td>\n",
              "      <td>5191.0</td>\n",
              "      <td>\"no\"</td>\n",
              "    </tr>\n",
              "    <tr>\n",
              "      <th>4</th>\n",
              "      <td>4</td>\n",
              "      <td>56</td>\n",
              "      <td>\"services\"</td>\n",
              "      <td>\"married\"</td>\n",
              "      <td>\"high.school\"</td>\n",
              "      <td>\"no\"</td>\n",
              "      <td>\"no\"</td>\n",
              "      <td>\"yes\"</td>\n",
              "      <td>\"telephone\"</td>\n",
              "      <td>\"may\"</td>\n",
              "      <td>\"mon\"</td>\n",
              "      <td>1</td>\n",
              "      <td>999</td>\n",
              "      <td>0</td>\n",
              "      <td>\"nonexistent\"</td>\n",
              "      <td>1.1</td>\n",
              "      <td>93.994</td>\n",
              "      <td>-36.4</td>\n",
              "      <td>4.857</td>\n",
              "      <td>5191.0</td>\n",
              "      <td>\"no\"</td>\n",
              "    </tr>\n",
              "  </tbody>\n",
              "</table>\n",
              "</div>"
            ],
            "text/plain": [
              "   Unnamed: 0  Age          Job  ... Euribor3m Nr_employed Decision\n",
              "0           0   56  \"housemaid\"  ...     4.857      5191.0     \"no\"\n",
              "1           1   57   \"services\"  ...     4.857      5191.0     \"no\"\n",
              "2           2   37   \"services\"  ...     4.857      5191.0     \"no\"\n",
              "3           3   40     \"admin.\"  ...     4.857      5191.0     \"no\"\n",
              "4           4   56   \"services\"  ...     4.857      5191.0     \"no\"\n",
              "\n",
              "[5 rows x 21 columns]"
            ]
          },
          "metadata": {
            "tags": []
          },
          "execution_count": 3
        }
      ]
    },
    {
      "cell_type": "code",
      "metadata": {
        "id": "oSfALS83lWy2",
        "colab": {
          "base_uri": "https://localhost:8080/"
        },
        "outputId": "40e464c9-f452-4feb-edef-1d6d606e0a1b"
      },
      "source": [
        "df.info()"
      ],
      "execution_count": null,
      "outputs": [
        {
          "output_type": "stream",
          "text": [
            "<class 'pandas.core.frame.DataFrame'>\n",
            "RangeIndex: 41187 entries, 0 to 41186\n",
            "Data columns (total 21 columns):\n",
            " #   Column          Non-Null Count  Dtype  \n",
            "---  ------          --------------  -----  \n",
            " 0   Unnamed: 0      41187 non-null  int64  \n",
            " 1   Age             41187 non-null  int64  \n",
            " 2   Job             41187 non-null  object \n",
            " 3   Marital         41187 non-null  object \n",
            " 4   Education       41187 non-null  object \n",
            " 5   Default         41187 non-null  object \n",
            " 6   Housing         41187 non-null  object \n",
            " 7   Loan            41187 non-null  object \n",
            " 8   Contact         41187 non-null  object \n",
            " 9   Month           41187 non-null  object \n",
            " 10  Day             41187 non-null  object \n",
            " 11  Campaign        41187 non-null  int64  \n",
            " 12  Pdays           41187 non-null  int64  \n",
            " 13  Previous        41187 non-null  int64  \n",
            " 14  Poutcome        41187 non-null  object \n",
            " 15  Emp_var_rate    41187 non-null  float64\n",
            " 16  Cons_price_idx  41187 non-null  float64\n",
            " 17  Cons_conf_idx   41187 non-null  float64\n",
            " 18  Euribor3m       41187 non-null  float64\n",
            " 19  Nr_employed     41187 non-null  float64\n",
            " 20  Decision        41187 non-null  object \n",
            "dtypes: float64(5), int64(5), object(11)\n",
            "memory usage: 6.6+ MB\n"
          ],
          "name": "stdout"
        }
      ]
    },
    {
      "cell_type": "code",
      "metadata": {
        "id": "373radMVKmu2"
      },
      "source": [
        "#As it was explianed in data cleaning part, Pdays should be categorical, not numeric"
      ],
      "execution_count": null,
      "outputs": []
    },
    {
      "cell_type": "code",
      "metadata": {
        "id": "0hKLQ3yBK1nr"
      },
      "source": [
        "df['Pdays']=df['Pdays'].astype('object')"
      ],
      "execution_count": null,
      "outputs": []
    },
    {
      "cell_type": "code",
      "metadata": {
        "id": "jAqDmyZCoWO3"
      },
      "source": [
        "#Variable Decision takes yes and no. I replace those with 1 and 0"
      ],
      "execution_count": null,
      "outputs": []
    },
    {
      "cell_type": "code",
      "metadata": {
        "colab": {
          "base_uri": "https://localhost:8080/"
        },
        "id": "ns3cIxMstYfZ",
        "outputId": "df2da8d0-b369-4f48-d97e-34bb16d77d08"
      },
      "source": [
        "df['Decision']=df['Decision'].apply(lambda x:str(x).replace('\"no\"','0'))\n",
        "df['Decision']=df['Decision'].apply(lambda x:str(x).replace('\"yes\"','1'))\n",
        "df['Decision'].value_counts()"
      ],
      "execution_count": null,
      "outputs": [
        {
          "output_type": "execute_result",
          "data": {
            "text/plain": [
              "0    36547\n",
              "1     4640\n",
              "Name: Decision, dtype: int64"
            ]
          },
          "metadata": {
            "tags": []
          },
          "execution_count": 5
        }
      ]
    },
    {
      "cell_type": "code",
      "metadata": {
        "id": "rN4HV5-ORaNV"
      },
      "source": [
        "############## Numeric Variables"
      ],
      "execution_count": null,
      "outputs": []
    },
    {
      "cell_type": "code",
      "metadata": {
        "id": "yPwvf3jVMzne"
      },
      "source": [
        "#I use the describe method to better understand the numeric variables. This gives us an understanding of the central tendencies of the data "
      ],
      "execution_count": null,
      "outputs": []
    },
    {
      "cell_type": "code",
      "metadata": {
        "colab": {
          "base_uri": "https://localhost:8080/",
          "height": 297
        },
        "id": "9mMLK6r8NHsH",
        "outputId": "1aff5618-64ae-41e1-f388-dabde193bfd5"
      },
      "source": [
        "df[['Age','Campaign','Previous','Emp_var_rate','Cons_price_idx','Cons_conf_idx','Euribor3m','Nr_employed']].describe()"
      ],
      "execution_count": null,
      "outputs": [
        {
          "output_type": "execute_result",
          "data": {
            "text/html": [
              "<div>\n",
              "<style scoped>\n",
              "    .dataframe tbody tr th:only-of-type {\n",
              "        vertical-align: middle;\n",
              "    }\n",
              "\n",
              "    .dataframe tbody tr th {\n",
              "        vertical-align: top;\n",
              "    }\n",
              "\n",
              "    .dataframe thead th {\n",
              "        text-align: right;\n",
              "    }\n",
              "</style>\n",
              "<table border=\"1\" class=\"dataframe\">\n",
              "  <thead>\n",
              "    <tr style=\"text-align: right;\">\n",
              "      <th></th>\n",
              "      <th>Age</th>\n",
              "      <th>Campaign</th>\n",
              "      <th>Previous</th>\n",
              "      <th>Emp_var_rate</th>\n",
              "      <th>Cons_price_idx</th>\n",
              "      <th>Cons_conf_idx</th>\n",
              "      <th>Euribor3m</th>\n",
              "      <th>Nr_employed</th>\n",
              "    </tr>\n",
              "  </thead>\n",
              "  <tbody>\n",
              "    <tr>\n",
              "      <th>count</th>\n",
              "      <td>41187.000000</td>\n",
              "      <td>41187.000000</td>\n",
              "      <td>41187.000000</td>\n",
              "      <td>41187.000000</td>\n",
              "      <td>41187.000000</td>\n",
              "      <td>41187.000000</td>\n",
              "      <td>41187.000000</td>\n",
              "      <td>41187.00000</td>\n",
              "    </tr>\n",
              "    <tr>\n",
              "      <th>mean</th>\n",
              "      <td>40.023235</td>\n",
              "      <td>2.567582</td>\n",
              "      <td>0.172943</td>\n",
              "      <td>0.081914</td>\n",
              "      <td>93.575635</td>\n",
              "      <td>-40.502350</td>\n",
              "      <td>3.621354</td>\n",
              "      <td>5167.04085</td>\n",
              "    </tr>\n",
              "    <tr>\n",
              "      <th>std</th>\n",
              "      <td>10.420032</td>\n",
              "      <td>2.770046</td>\n",
              "      <td>0.494890</td>\n",
              "      <td>1.570968</td>\n",
              "      <td>0.578817</td>\n",
              "      <td>4.627976</td>\n",
              "      <td>1.734421</td>\n",
              "      <td>72.24545</td>\n",
              "    </tr>\n",
              "    <tr>\n",
              "      <th>min</th>\n",
              "      <td>17.000000</td>\n",
              "      <td>1.000000</td>\n",
              "      <td>0.000000</td>\n",
              "      <td>-3.400000</td>\n",
              "      <td>92.201000</td>\n",
              "      <td>-50.800000</td>\n",
              "      <td>0.634000</td>\n",
              "      <td>4963.60000</td>\n",
              "    </tr>\n",
              "    <tr>\n",
              "      <th>25%</th>\n",
              "      <td>32.000000</td>\n",
              "      <td>1.000000</td>\n",
              "      <td>0.000000</td>\n",
              "      <td>-1.800000</td>\n",
              "      <td>93.075000</td>\n",
              "      <td>-42.700000</td>\n",
              "      <td>1.344000</td>\n",
              "      <td>5099.10000</td>\n",
              "    </tr>\n",
              "    <tr>\n",
              "      <th>50%</th>\n",
              "      <td>38.000000</td>\n",
              "      <td>2.000000</td>\n",
              "      <td>0.000000</td>\n",
              "      <td>1.100000</td>\n",
              "      <td>93.749000</td>\n",
              "      <td>-41.800000</td>\n",
              "      <td>4.857000</td>\n",
              "      <td>5191.00000</td>\n",
              "    </tr>\n",
              "    <tr>\n",
              "      <th>75%</th>\n",
              "      <td>47.000000</td>\n",
              "      <td>3.000000</td>\n",
              "      <td>0.000000</td>\n",
              "      <td>1.400000</td>\n",
              "      <td>93.994000</td>\n",
              "      <td>-36.400000</td>\n",
              "      <td>4.961000</td>\n",
              "      <td>5228.10000</td>\n",
              "    </tr>\n",
              "    <tr>\n",
              "      <th>max</th>\n",
              "      <td>98.000000</td>\n",
              "      <td>56.000000</td>\n",
              "      <td>7.000000</td>\n",
              "      <td>1.400000</td>\n",
              "      <td>94.767000</td>\n",
              "      <td>-26.900000</td>\n",
              "      <td>5.045000</td>\n",
              "      <td>5228.10000</td>\n",
              "    </tr>\n",
              "  </tbody>\n",
              "</table>\n",
              "</div>"
            ],
            "text/plain": [
              "                Age      Campaign  ...     Euribor3m  Nr_employed\n",
              "count  41187.000000  41187.000000  ...  41187.000000  41187.00000\n",
              "mean      40.023235      2.567582  ...      3.621354   5167.04085\n",
              "std       10.420032      2.770046  ...      1.734421     72.24545\n",
              "min       17.000000      1.000000  ...      0.634000   4963.60000\n",
              "25%       32.000000      1.000000  ...      1.344000   5099.10000\n",
              "50%       38.000000      2.000000  ...      4.857000   5191.00000\n",
              "75%       47.000000      3.000000  ...      4.961000   5228.10000\n",
              "max       98.000000     56.000000  ...      5.045000   5228.10000\n",
              "\n",
              "[8 rows x 8 columns]"
            ]
          },
          "metadata": {
            "tags": []
          },
          "execution_count": 13
        }
      ]
    },
    {
      "cell_type": "code",
      "metadata": {
        "colab": {
          "base_uri": "https://localhost:8080/",
          "height": 142
        },
        "id": "FSQTHIqlL6p2",
        "outputId": "bef77296-46d7-40f3-a6f0-bfa76aeff7c3"
      },
      "source": [
        "#Comparing Decision rate across numeric variables \n",
        "pd.pivot_table(df,index='Decision',values=['Age','Campaign','Previous','Emp_var_rate','Cons_price_idx','Cons_conf_idx','Euribor3m','Nr_employed'])"
      ],
      "execution_count": null,
      "outputs": [
        {
          "output_type": "execute_result",
          "data": {
            "text/html": [
              "<div>\n",
              "<style scoped>\n",
              "    .dataframe tbody tr th:only-of-type {\n",
              "        vertical-align: middle;\n",
              "    }\n",
              "\n",
              "    .dataframe tbody tr th {\n",
              "        vertical-align: top;\n",
              "    }\n",
              "\n",
              "    .dataframe thead th {\n",
              "        text-align: right;\n",
              "    }\n",
              "</style>\n",
              "<table border=\"1\" class=\"dataframe\">\n",
              "  <thead>\n",
              "    <tr style=\"text-align: right;\">\n",
              "      <th></th>\n",
              "      <th>Age</th>\n",
              "      <th>Campaign</th>\n",
              "      <th>Cons_conf_idx</th>\n",
              "      <th>Cons_price_idx</th>\n",
              "      <th>Emp_var_rate</th>\n",
              "      <th>Euribor3m</th>\n",
              "      <th>Nr_employed</th>\n",
              "      <th>Previous</th>\n",
              "    </tr>\n",
              "    <tr>\n",
              "      <th>Decision</th>\n",
              "      <th></th>\n",
              "      <th></th>\n",
              "      <th></th>\n",
              "      <th></th>\n",
              "      <th></th>\n",
              "      <th></th>\n",
              "      <th></th>\n",
              "      <th></th>\n",
              "    </tr>\n",
              "  </thead>\n",
              "  <tbody>\n",
              "    <tr>\n",
              "      <th>0</th>\n",
              "      <td>39.910253</td>\n",
              "      <td>2.633075</td>\n",
              "      <td>-40.592817</td>\n",
              "      <td>93.603725</td>\n",
              "      <td>0.248912</td>\n",
              "      <td>3.811567</td>\n",
              "      <td>5176.172416</td>\n",
              "      <td>0.132350</td>\n",
              "    </tr>\n",
              "    <tr>\n",
              "      <th>1</th>\n",
              "      <td>40.913147</td>\n",
              "      <td>2.051724</td>\n",
              "      <td>-39.789784</td>\n",
              "      <td>93.354386</td>\n",
              "      <td>-1.233448</td>\n",
              "      <td>2.123135</td>\n",
              "      <td>5095.115991</td>\n",
              "      <td>0.492672</td>\n",
              "    </tr>\n",
              "  </tbody>\n",
              "</table>\n",
              "</div>"
            ],
            "text/plain": [
              "                Age  Campaign  Cons_conf_idx  ...  Euribor3m  Nr_employed  Previous\n",
              "Decision                                      ...                                  \n",
              "0         39.910253  2.633075     -40.592817  ...   3.811567  5176.172416  0.132350\n",
              "1         40.913147  2.051724     -39.789784  ...   2.123135  5095.115991  0.492672\n",
              "\n",
              "[2 rows x 8 columns]"
            ]
          },
          "metadata": {
            "tags": []
          },
          "execution_count": 12
        }
      ]
    },
    {
      "cell_type": "code",
      "metadata": {
        "id": "fSjlNp3oODJ-"
      },
      "source": [
        "#Distributions for all the numeric variables"
      ],
      "execution_count": null,
      "outputs": []
    },
    {
      "cell_type": "code",
      "metadata": {
        "colab": {
          "base_uri": "https://localhost:8080/",
          "height": 1000
        },
        "id": "l7nvTSS1ODfZ",
        "outputId": "2200cc24-371a-400d-c974-612d5a98c61b"
      },
      "source": [
        "num=df[['Age','Campaign','Previous','Emp_var_rate','Cons_price_idx','Cons_conf_idx','Euribor3m','Nr_employed']]\n",
        "for i in num.columns:\n",
        "  plt.hist(num[i])\n",
        "  plt.title(i)\n",
        "  plt.show()"
      ],
      "execution_count": null,
      "outputs": [
        {
          "output_type": "display_data",
          "data": {
            "image/png": "[encoded data removed]",
            "text/plain": [
              "<Figure size 432x288 with 1 Axes>"
            ]
          },
          "metadata": {
            "tags": [],
            "needs_background": "light"
          }
        },
        {
          "output_type": "display_data",
          "data": {
            "image/png": "[encoded data removed]",
            "text/plain": [
              "<Figure size 432x288 with 1 Axes>"
            ]
          },
          "metadata": {
            "tags": [],
            "needs_background": "light"
          }
        },
        {
          "output_type": "display_data",
          "data": {
            "image/png": "[encoded data removed]",
            "text/plain": [
              "<Figure size 432x288 with 1 Axes>"
            ]
          },
          "metadata": {
            "tags": [],
            "needs_background": "light"
          }
        },
        {
          "output_type": "display_data",
          "data": {
            "image/png": "[encoded data removed]",
            "text/plain": [
              "<Figure size 432x288 with 1 Axes>"
            ]
          },
          "metadata": {
            "tags": [],
            "needs_background": "light"
          }
        },
        {
          "output_type": "display_data",
          "data": {
            "image/png": "[encoded data removed]",
            "text/plain": [
              "<Figure size 432x288 with 1 Axes>"
            ]
          },
          "metadata": {
            "tags": [],
            "needs_background": "light"
          }
        },
        {
          "output_type": "display_data",
          "data": {
            "image/png": "[encoded data removed]",
            "text/plain": [
              "<Figure size 432x288 with 1 Axes>"
            ]
          },
          "metadata": {
            "tags": [],
            "needs_background": "light"
          }
        },
        {
          "output_type": "display_data",
          "data": {
            "image/png": "[encoded data removed]",
            "text/plain": [
              "<Figure size 432x288 with 1 Axes>"
            ]
          },
          "metadata": {
            "tags": [],
            "needs_background": "light"
          }
        },
        {
          "output_type": "display_data",
          "data": {
            "image/png": "[encoded data removed]",
            "text/plain": [
              "<Figure size 432x288 with 1 Axes>"
            ]
          },
          "metadata": {
            "tags": [],
            "needs_background": "light"
          }
        }
      ]
    },
    {
      "cell_type": "code",
      "metadata": {
        "id": "YkWnpm43wFDd"
      },
      "source": [
        "#Now I use ANOVA to obtain f score for variable Decision and each numeric variable\n",
        "#When f score is big, it means there is correlation between that numeric variable and Decision"
      ],
      "execution_count": null,
      "outputs": []
    },
    {
      "cell_type": "code",
      "metadata": {
        "id": "x5-9RdaKlql6",
        "colab": {
          "base_uri": "https://localhost:8080/"
        },
        "outputId": "ee989d2f-b61b-4d67-8748-23acf8a6da55"
      },
      "source": [
        "from scipy import stats\n",
        "df_anova=df[['Decision','Age']]\n",
        "grouped_anova=df_anova.groupby(['Decision'])\n",
        "anova_results=stats.f_oneway(grouped_anova.get_group('1')['Age'],grouped_anova.get_group('0')['Age'])\n",
        "print(anova_results)"
      ],
      "execution_count": null,
      "outputs": [
        {
          "output_type": "stream",
          "text": [
            "F_onewayResult(statistic=38.17450048125443, pvalue=6.529669058807116e-10)\n"
          ],
          "name": "stdout"
        }
      ]
    },
    {
      "cell_type": "code",
      "metadata": {
        "colab": {
          "base_uri": "https://localhost:8080/"
        },
        "id": "J6kRoVOfwZ7S",
        "outputId": "bae4fab7-7d68-484e-d5e2-b30b9f49e96b"
      },
      "source": [
        "df_anova=df[['Decision','Campaign']]\n",
        "grouped_anova=df_anova.groupby(['Decision'])\n",
        "anova_results=stats.f_oneway(grouped_anova.get_group('1')['Campaign'],grouped_anova.get_group('0')['Campaign'])\n",
        "print(anova_results)"
      ],
      "execution_count": null,
      "outputs": [
        {
          "output_type": "stream",
          "text": [
            "F_onewayResult(statistic=182.14547545808375, pvalue=2.0190737656122594e-41)\n"
          ],
          "name": "stdout"
        }
      ]
    },
    {
      "cell_type": "code",
      "metadata": {
        "colab": {
          "base_uri": "https://localhost:8080/"
        },
        "id": "HjuxxUzxxS_d",
        "outputId": "24221ee3-3622-45ba-82a1-dce3208199b1"
      },
      "source": [
        "df_anova=df[['Decision','Previous']]\n",
        "grouped_anova=df_anova.groupby(['Decision'])\n",
        "anova_results=stats.f_oneway(grouped_anova.get_group('1')['Previous'],grouped_anova.get_group('0')['Previous'])\n",
        "print(anova_results)"
      ],
      "execution_count": null,
      "outputs": [
        {
          "output_type": "stream",
          "text": [
            "F_onewayResult(statistic=2304.67930089819, pvalue=0.0)\n"
          ],
          "name": "stdout"
        }
      ]
    },
    {
      "cell_type": "code",
      "metadata": {
        "colab": {
          "base_uri": "https://localhost:8080/"
        },
        "id": "AQXs_fkaxcRD",
        "outputId": "1964ad77-6673-441a-e07f-81a0f79a92eb"
      },
      "source": [
        "df_anova=df[['Decision','Emp_var_rate']]\n",
        "grouped_anova=df_anova.groupby(['Decision'])\n",
        "anova_results=stats.f_oneway(grouped_anova.get_group('1')['Emp_var_rate'],grouped_anova.get_group('0')['Emp_var_rate'])\n",
        "print(anova_results)"
      ],
      "execution_count": null,
      "outputs": [
        {
          "output_type": "stream",
          "text": [
            "F_onewayResult(statistic=4023.999266105272, pvalue=0.0)\n"
          ],
          "name": "stdout"
        }
      ]
    },
    {
      "cell_type": "code",
      "metadata": {
        "colab": {
          "base_uri": "https://localhost:8080/"
        },
        "id": "AlcpdZoUxccx",
        "outputId": "3dbf00ac-8cf0-453c-ce52-7899752a7d45"
      },
      "source": [
        "df_anova=df[['Decision','Cons_price_idx']]\n",
        "grouped_anova=df_anova.groupby(['Decision'])\n",
        "anova_results=stats.f_oneway(grouped_anova.get_group('1')['Cons_price_idx'],grouped_anova.get_group('0')['Cons_price_idx'])\n",
        "print(anova_results)"
      ],
      "execution_count": null,
      "outputs": [
        {
          "output_type": "stream",
          "text": [
            "F_onewayResult(statistic=778.4475224254741, pvalue=9.994553842013405e-170)\n"
          ],
          "name": "stdout"
        }
      ]
    },
    {
      "cell_type": "code",
      "metadata": {
        "colab": {
          "base_uri": "https://localhost:8080/"
        },
        "id": "2FJMhfZhxcki",
        "outputId": "bd55e666-0159-485e-9466-ee8e62bd9506"
      },
      "source": [
        "df_anova=df[['Decision','Cons_conf_idx']]\n",
        "grouped_anova=df_anova.groupby(['Decision'])\n",
        "anova_results=stats.f_oneway(grouped_anova.get_group('1')['Cons_conf_idx'],grouped_anova.get_group('0')['Cons_conf_idx'])\n",
        "print(anova_results)"
      ],
      "execution_count": null,
      "outputs": [
        {
          "output_type": "stream",
          "text": [
            "F_onewayResult(statistic=124.33480975301164, pvalue=7.826755200302955e-29)\n"
          ],
          "name": "stdout"
        }
      ]
    },
    {
      "cell_type": "code",
      "metadata": {
        "colab": {
          "base_uri": "https://localhost:8080/"
        },
        "id": "fsUON0hfxcoz",
        "outputId": "57e3354a-2935-4ee4-a9f2-a4a53bba5442"
      },
      "source": [
        "df_anova=df[['Decision','Euribor3m']]\n",
        "grouped_anova=df_anova.groupby(['Decision'])\n",
        "anova_results=stats.f_oneway(grouped_anova.get_group('1')['Euribor3m'],grouped_anova.get_group('0')['Euribor3m'])\n",
        "print(anova_results)"
      ],
      "execution_count": null,
      "outputs": [
        {
          "output_type": "stream",
          "text": [
            "F_onewayResult(statistic=4310.047651881237, pvalue=0.0)\n"
          ],
          "name": "stdout"
        }
      ]
    },
    {
      "cell_type": "code",
      "metadata": {
        "colab": {
          "base_uri": "https://localhost:8080/"
        },
        "id": "5om9z7qzyGE4",
        "outputId": "9ad727bd-2d64-48b3-87f1-2a82d8b2940d"
      },
      "source": [
        "df_anova=df[['Decision','Nr_employed']]\n",
        "grouped_anova=df_anova.groupby(['Decision'])\n",
        "anova_results=stats.f_oneway(grouped_anova.get_group('1')['Nr_employed'],grouped_anova.get_group('0')['Nr_employed'])\n",
        "print(anova_results)"
      ],
      "execution_count": null,
      "outputs": [
        {
          "output_type": "stream",
          "text": [
            "F_onewayResult(statistic=5928.724350733113, pvalue=0.0)\n"
          ],
          "name": "stdout"
        }
      ]
    },
    {
      "cell_type": "code",
      "metadata": {
        "id": "su-ynzjfO3Ip"
      },
      "source": [
        "### Result : variables that have higher f score have more correlation with our target which is Decision\n",
        "#These variables are : Nr_employed, Euribor3m, Emp_var_rate, Previous, Cons_price_idx\n",
        "#What these variables represent: number of employees, euribor 3 month rate, employment variation rate, number of contacts performed before this campaign and for this client, \n",
        "#consumer price index"
      ],
      "execution_count": null,
      "outputs": []
    },
    {
      "cell_type": "code",
      "metadata": {
        "id": "627VhDoFRe2d"
      },
      "source": [
        "############## Categorical Variables"
      ],
      "execution_count": null,
      "outputs": []
    },
    {
      "cell_type": "code",
      "metadata": {
        "id": "fZXI3cWDOqF0"
      },
      "source": [
        "#Distributions for all the categorical variables"
      ],
      "execution_count": null,
      "outputs": []
    },
    {
      "cell_type": "code",
      "metadata": {
        "colab": {
          "base_uri": "https://localhost:8080/",
          "height": 1000
        },
        "id": "T4hM40XpOvRz",
        "outputId": "991b9414-dca8-4aa4-8b21-9b474c47a1c9"
      },
      "source": [
        "cat=df[['Job','Marital','Education','Default','Housing','Loan','Contact','Month','Day','Pdays','Poutcome','Decision']]\n",
        "for i in cat.columns:\n",
        "  sns.barplot(cat[i].value_counts().index,cat[i].value_counts()).set_title(i)\n",
        "  plt.show()"
      ],
      "execution_count": null,
      "outputs": [
        {
          "output_type": "stream",
          "text": [
            "/usr/local/lib/python3.7/dist-packages/seaborn/_decorators.py:43: FutureWarning: Pass the following variables as keyword args: x, y. From version 0.12, the only valid positional argument will be `data`, and passing other arguments without an explicit keyword will result in an error or misinterpretation.\n",
            "  FutureWarning\n"
          ],
          "name": "stderr"
        },
        {
          "output_type": "display_data",
          "data": {
            "image/png": "[encoded data removed]",
            "text/plain": [
              "<Figure size 432x288 with 1 Axes>"
            ]
          },
          "metadata": {
            "tags": [],
            "needs_background": "light"
          }
        },
        {
          "output_type": "stream",
          "text": [
            "/usr/local/lib/python3.7/dist-packages/seaborn/_decorators.py:43: FutureWarning: Pass the following variables as keyword args: x, y. From version 0.12, the only valid positional argument will be `data`, and passing other arguments without an explicit keyword will result in an error or misinterpretation.\n",
            "  FutureWarning\n"
          ],
          "name": "stderr"
        },
        {
          "output_type": "display_data",
          "data": {
            "image/png": "[encoded data removed]",
            "text/plain": [
              "<Figure size 432x288 with 1 Axes>"
            ]
          },
          "metadata": {
            "tags": [],
            "needs_background": "light"
          }
        },
        {
          "output_type": "stream",
          "text": [
            "/usr/local/lib/python3.7/dist-packages/seaborn/_decorators.py:43: FutureWarning: Pass the following variables as keyword args: x, y. From version 0.12, the only valid positional argument will be `data`, and passing other arguments without an explicit keyword will result in an error or misinterpretation.\n",
            "  FutureWarning\n"
          ],
          "name": "stderr"
        },
        {
          "output_type": "display_data",
          "data": {
            "image/png": "[encoded data removed]",
            "text/plain": [
              "<Figure size 432x288 with 1 Axes>"
            ]
          },
          "metadata": {
            "tags": [],
            "needs_background": "light"
          }
        },
        {
          "output_type": "stream",
          "text": [
            "/usr/local/lib/python3.7/dist-packages/seaborn/_decorators.py:43: FutureWarning: Pass the following variables as keyword args: x, y. From version 0.12, the only valid positional argument will be `data`, and passing other arguments without an explicit keyword will result in an error or misinterpretation.\n",
            "  FutureWarning\n"
          ],
          "name": "stderr"
        },
        {
          "output_type": "display_data",
          "data": {
            "image/png": "[encoded data removed]",
            "text/plain": [
              "<Figure size 432x288 with 1 Axes>"
            ]
          },
          "metadata": {
            "tags": [],
            "needs_background": "light"
          }
        },
        {
          "output_type": "stream",
          "text": [
            "/usr/local/lib/python3.7/dist-packages/seaborn/_decorators.py:43: FutureWarning: Pass the following variables as keyword args: x, y. From version 0.12, the only valid positional argument will be `data`, and passing other arguments without an explicit keyword will result in an error or misinterpretation.\n",
            "  FutureWarning\n"
          ],
          "name": "stderr"
        },
        {
          "output_type": "display_data",
          "data": {
            "image/png": "[encoded data removed]",
            "text/plain": [
              "<Figure size 432x288 with 1 Axes>"
            ]
          },
          "metadata": {
            "tags": [],
            "needs_background": "light"
          }
        },
        {
          "output_type": "stream",
          "text": [
            "/usr/local/lib/python3.7/dist-packages/seaborn/_decorators.py:43: FutureWarning: Pass the following variables as keyword args: x, y. From version 0.12, the only valid positional argument will be `data`, and passing other arguments without an explicit keyword will result in an error or misinterpretation.\n",
            "  FutureWarning\n"
          ],
          "name": "stderr"
        },
        {
          "output_type": "display_data",
          "data": {
            "image/png": "[encoded data removed]",
            "text/plain": [
              "<Figure size 432x288 with 1 Axes>"
            ]
          },
          "metadata": {
            "tags": [],
            "needs_background": "light"
          }
        },
        {
          "output_type": "stream",
          "text": [
            "/usr/local/lib/python3.7/dist-packages/seaborn/_decorators.py:43: FutureWarning: Pass the following variables as keyword args: x, y. From version 0.12, the only valid positional argument will be `data`, and passing other arguments without an explicit keyword will result in an error or misinterpretation.\n",
            "  FutureWarning\n"
          ],
          "name": "stderr"
        },
        {
          "output_type": "display_data",
          "data": {
            "image/png": "[encoded data removed]",
            "text/plain": [
              "<Figure size 432x288 with 1 Axes>"
            ]
          },
          "metadata": {
            "tags": [],
            "needs_background": "light"
          }
        },
        {
          "output_type": "stream",
          "text": [
            "/usr/local/lib/python3.7/dist-packages/seaborn/_decorators.py:43: FutureWarning: Pass the following variables as keyword args: x, y. From version 0.12, the only valid positional argument will be `data`, and passing other arguments without an explicit keyword will result in an error or misinterpretation.\n",
            "  FutureWarning\n"
          ],
          "name": "stderr"
        },
        {
          "output_type": "display_data",
          "data": {
            "image/png": "[encoded data removed]",
            "text/plain": [
              "<Figure size 432x288 with 1 Axes>"
            ]
          },
          "metadata": {
            "tags": [],
            "needs_background": "light"
          }
        },
        {
          "output_type": "stream",
          "text": [
            "/usr/local/lib/python3.7/dist-packages/seaborn/_decorators.py:43: FutureWarning: Pass the following variables as keyword args: x, y. From version 0.12, the only valid positional argument will be `data`, and passing other arguments without an explicit keyword will result in an error or misinterpretation.\n",
            "  FutureWarning\n"
          ],
          "name": "stderr"
        },
        {
          "output_type": "display_data",
          "data": {
            "image/png": "[encoded data removed]",
            "text/plain": [
              "<Figure size 432x288 with 1 Axes>"
            ]
          },
          "metadata": {
            "tags": [],
            "needs_background": "light"
          }
        },
        {
          "output_type": "stream",
          "text": [
            "/usr/local/lib/python3.7/dist-packages/seaborn/_decorators.py:43: FutureWarning: Pass the following variables as keyword args: x, y. From version 0.12, the only valid positional argument will be `data`, and passing other arguments without an explicit keyword will result in an error or misinterpretation.\n",
            "  FutureWarning\n"
          ],
          "name": "stderr"
        },
        {
          "output_type": "display_data",
          "data": {
            "image/png": "[encoded data removed]",
            "text/plain": [
              "<Figure size 432x288 with 1 Axes>"
            ]
          },
          "metadata": {
            "tags": [],
            "needs_background": "light"
          }
        },
        {
          "output_type": "stream",
          "text": [
            "/usr/local/lib/python3.7/dist-packages/seaborn/_decorators.py:43: FutureWarning: Pass the following variables as keyword args: x, y. From version 0.12, the only valid positional argument will be `data`, and passing other arguments without an explicit keyword will result in an error or misinterpretation.\n",
            "  FutureWarning\n"
          ],
          "name": "stderr"
        },
        {
          "output_type": "display_data",
          "data": {
            "image/png": "[encoded data removed]",
            "text/plain": [
              "<Figure size 432x288 with 1 Axes>"
            ]
          },
          "metadata": {
            "tags": [],
            "needs_background": "light"
          }
        },
        {
          "output_type": "stream",
          "text": [
            "/usr/local/lib/python3.7/dist-packages/seaborn/_decorators.py:43: FutureWarning: Pass the following variables as keyword args: x, y. From version 0.12, the only valid positional argument will be `data`, and passing other arguments without an explicit keyword will result in an error or misinterpretation.\n",
            "  FutureWarning\n"
          ],
          "name": "stderr"
        },
        {
          "output_type": "display_data",
          "data": {
            "image/png": "[encoded data removed]",
            "text/plain": [
              "<Figure size 432x288 with 1 Axes>"
            ]
          },
          "metadata": {
            "tags": [],
            "needs_background": "light"
          }
        }
      ]
    },
    {
      "cell_type": "code",
      "metadata": {
        "id": "Xw1Ehzx5-0uL"
      },
      "source": [
        "#Comparing Decision and each of the categorical variables\n",
        "#To do this, I obtain pivot table for each categorical variable against Decision, and then I calculate p value\n",
        "#if p value is less than alpha, the categorical variable and Decision are dependent"
      ],
      "execution_count": null,
      "outputs": []
    },
    {
      "cell_type": "code",
      "metadata": {
        "colab": {
          "base_uri": "https://localhost:8080/",
          "height": 142
        },
        "id": "NyMas3_ZaH87",
        "outputId": "d164ef46-b721-4888-acfe-a49d4355e780"
      },
      "source": [
        "pd.pivot_table(df,index='Decision',columns='Job',values='Unnamed: 0',aggfunc='count')"
      ],
      "execution_count": null,
      "outputs": [
        {
          "output_type": "execute_result",
          "data": {
            "text/html": [
              "<div>\n",
              "<style scoped>\n",
              "    .dataframe tbody tr th:only-of-type {\n",
              "        vertical-align: middle;\n",
              "    }\n",
              "\n",
              "    .dataframe tbody tr th {\n",
              "        vertical-align: top;\n",
              "    }\n",
              "\n",
              "    .dataframe thead th {\n",
              "        text-align: right;\n",
              "    }\n",
              "</style>\n",
              "<table border=\"1\" class=\"dataframe\">\n",
              "  <thead>\n",
              "    <tr style=\"text-align: right;\">\n",
              "      <th>Job</th>\n",
              "      <th>\"admin.\"</th>\n",
              "      <th>\"blue-collar\"</th>\n",
              "      <th>\"entrepreneur\"</th>\n",
              "      <th>\"housemaid\"</th>\n",
              "      <th>\"management\"</th>\n",
              "      <th>\"retired\"</th>\n",
              "      <th>\"self-employed\"</th>\n",
              "      <th>\"services\"</th>\n",
              "      <th>\"student\"</th>\n",
              "      <th>\"technician\"</th>\n",
              "      <th>\"unemployed\"</th>\n",
              "      <th>\"unknown\"</th>\n",
              "    </tr>\n",
              "    <tr>\n",
              "      <th>Decision</th>\n",
              "      <th></th>\n",
              "      <th></th>\n",
              "      <th></th>\n",
              "      <th></th>\n",
              "      <th></th>\n",
              "      <th></th>\n",
              "      <th></th>\n",
              "      <th></th>\n",
              "      <th></th>\n",
              "      <th></th>\n",
              "      <th></th>\n",
              "      <th></th>\n",
              "    </tr>\n",
              "  </thead>\n",
              "  <tbody>\n",
              "    <tr>\n",
              "      <th>0</th>\n",
              "      <td>9070</td>\n",
              "      <td>8616</td>\n",
              "      <td>1332</td>\n",
              "      <td>954</td>\n",
              "      <td>2596</td>\n",
              "      <td>1285</td>\n",
              "      <td>1272</td>\n",
              "      <td>3646</td>\n",
              "      <td>600</td>\n",
              "      <td>6013</td>\n",
              "      <td>870</td>\n",
              "      <td>293</td>\n",
              "    </tr>\n",
              "    <tr>\n",
              "      <th>1</th>\n",
              "      <td>1352</td>\n",
              "      <td>638</td>\n",
              "      <td>124</td>\n",
              "      <td>106</td>\n",
              "      <td>328</td>\n",
              "      <td>434</td>\n",
              "      <td>149</td>\n",
              "      <td>323</td>\n",
              "      <td>275</td>\n",
              "      <td>730</td>\n",
              "      <td>144</td>\n",
              "      <td>37</td>\n",
              "    </tr>\n",
              "  </tbody>\n",
              "</table>\n",
              "</div>"
            ],
            "text/plain": [
              "Job       \"admin.\"  \"blue-collar\"  ...  \"unemployed\"  \"unknown\"\n",
              "Decision                           ...                         \n",
              "0             9070           8616  ...           870        293\n",
              "1             1352            638  ...           144         37\n",
              "\n",
              "[2 rows x 12 columns]"
            ]
          },
          "metadata": {
            "tags": []
          },
          "execution_count": 25
        }
      ]
    },
    {
      "cell_type": "code",
      "metadata": {
        "colab": {
          "base_uri": "https://localhost:8080/"
        },
        "id": "a21v73AHaIeq",
        "outputId": "151fc1f2-573f-4c37-8c8b-5a5b6ea59aeb"
      },
      "source": [
        "data=[[9070,8616,1332,954,2596,1285,1272,3646,600,6013,870,293],[1352,638,124,106,328,434,149,323,275,730,144,37]]\n",
        "stat, p, dof, expected = chi2_contingency(data)\n",
        "alpha = 0.05\n",
        "print(\"p value is \" + str(p))\n",
        "if p <= alpha:\n",
        "    print('Dependent (reject H0)')\n",
        "else:\n",
        "    print('Independent (H0 holds true)')"
      ],
      "execution_count": null,
      "outputs": [
        {
          "output_type": "stream",
          "text": [
            "p value is 3.286955310674044e-199\n",
            "Dependent (reject H0)\n"
          ],
          "name": "stdout"
        }
      ]
    },
    {
      "cell_type": "code",
      "metadata": {
        "id": "zXZag_oubsDI",
        "colab": {
          "base_uri": "https://localhost:8080/",
          "height": 142
        },
        "outputId": "5a045aea-842f-473a-de23-8b4d4b2c4e98"
      },
      "source": [
        "pd.pivot_table(df,index='Decision',columns='Marital',values='Unnamed: 0',aggfunc='count')"
      ],
      "execution_count": null,
      "outputs": [
        {
          "output_type": "execute_result",
          "data": {
            "text/html": [
              "<div>\n",
              "<style scoped>\n",
              "    .dataframe tbody tr th:only-of-type {\n",
              "        vertical-align: middle;\n",
              "    }\n",
              "\n",
              "    .dataframe tbody tr th {\n",
              "        vertical-align: top;\n",
              "    }\n",
              "\n",
              "    .dataframe thead th {\n",
              "        text-align: right;\n",
              "    }\n",
              "</style>\n",
              "<table border=\"1\" class=\"dataframe\">\n",
              "  <thead>\n",
              "    <tr style=\"text-align: right;\">\n",
              "      <th>Marital</th>\n",
              "      <th>\"divorced\"</th>\n",
              "      <th>\"married\"</th>\n",
              "      <th>\"single\"</th>\n",
              "      <th>\"unknown\"</th>\n",
              "    </tr>\n",
              "    <tr>\n",
              "      <th>Decision</th>\n",
              "      <th></th>\n",
              "      <th></th>\n",
              "      <th></th>\n",
              "      <th></th>\n",
              "    </tr>\n",
              "  </thead>\n",
              "  <tbody>\n",
              "    <tr>\n",
              "      <th>0</th>\n",
              "      <td>4136</td>\n",
              "      <td>22395</td>\n",
              "      <td>9948</td>\n",
              "      <td>68</td>\n",
              "    </tr>\n",
              "    <tr>\n",
              "      <th>1</th>\n",
              "      <td>476</td>\n",
              "      <td>2532</td>\n",
              "      <td>1620</td>\n",
              "      <td>12</td>\n",
              "    </tr>\n",
              "  </tbody>\n",
              "</table>\n",
              "</div>"
            ],
            "text/plain": [
              "Marital   \"divorced\"  \"married\"  \"single\"  \"unknown\"\n",
              "Decision                                            \n",
              "0               4136      22395      9948         68\n",
              "1                476       2532      1620         12"
            ]
          },
          "metadata": {
            "tags": []
          },
          "execution_count": 27
        }
      ]
    },
    {
      "cell_type": "code",
      "metadata": {
        "colab": {
          "base_uri": "https://localhost:8080/"
        },
        "id": "cKhvZ9hCPC10",
        "outputId": "5a2bd19a-49c2-45f2-fa76-dc142e4b6939"
      },
      "source": [
        "data=[[4136,22395,9948,68],[476,2532,1620,12]]\n",
        "stat, p, dof, expected = chi2_contingency(data)\n",
        "alpha = 0.05\n",
        "print(\"p value is \" + str(p))\n",
        "if p <= alpha:\n",
        "    print('Dependent (reject H0)')\n",
        "else:\n",
        "    print('Independent (H0 holds true)')"
      ],
      "execution_count": null,
      "outputs": [
        {
          "output_type": "stream",
          "text": [
            "p value is 2.0952162613748647e-26\n",
            "Dependent (reject H0)\n"
          ],
          "name": "stdout"
        }
      ]
    },
    {
      "cell_type": "code",
      "metadata": {
        "colab": {
          "base_uri": "https://localhost:8080/",
          "height": 142
        },
        "id": "WOfBE4_qZJKP",
        "outputId": "0ee6dd49-ce29-4e31-d4b2-63ae4251ef02"
      },
      "source": [
        "pd.pivot_table(df,index='Decision',columns='Education',values='Unnamed: 0',aggfunc='count')"
      ],
      "execution_count": null,
      "outputs": [
        {
          "output_type": "execute_result",
          "data": {
            "text/html": [
              "<div>\n",
              "<style scoped>\n",
              "    .dataframe tbody tr th:only-of-type {\n",
              "        vertical-align: middle;\n",
              "    }\n",
              "\n",
              "    .dataframe tbody tr th {\n",
              "        vertical-align: top;\n",
              "    }\n",
              "\n",
              "    .dataframe thead th {\n",
              "        text-align: right;\n",
              "    }\n",
              "</style>\n",
              "<table border=\"1\" class=\"dataframe\">\n",
              "  <thead>\n",
              "    <tr style=\"text-align: right;\">\n",
              "      <th>Education</th>\n",
              "      <th>\"basic.4y\"</th>\n",
              "      <th>\"basic.6y\"</th>\n",
              "      <th>\"basic.9y\"</th>\n",
              "      <th>\"high.school\"</th>\n",
              "      <th>\"illiterate\"</th>\n",
              "      <th>\"professional.course\"</th>\n",
              "      <th>\"university.degree\"</th>\n",
              "      <th>\"unknown\"</th>\n",
              "    </tr>\n",
              "    <tr>\n",
              "      <th>Decision</th>\n",
              "      <th></th>\n",
              "      <th></th>\n",
              "      <th></th>\n",
              "      <th></th>\n",
              "      <th></th>\n",
              "      <th></th>\n",
              "      <th></th>\n",
              "      <th></th>\n",
              "    </tr>\n",
              "  </thead>\n",
              "  <tbody>\n",
              "    <tr>\n",
              "      <th>0</th>\n",
              "      <td>3748</td>\n",
              "      <td>2104</td>\n",
              "      <td>5572</td>\n",
              "      <td>8484</td>\n",
              "      <td>14</td>\n",
              "      <td>4647</td>\n",
              "      <td>10498</td>\n",
              "      <td>1480</td>\n",
              "    </tr>\n",
              "    <tr>\n",
              "      <th>1</th>\n",
              "      <td>428</td>\n",
              "      <td>188</td>\n",
              "      <td>473</td>\n",
              "      <td>1031</td>\n",
              "      <td>4</td>\n",
              "      <td>595</td>\n",
              "      <td>1670</td>\n",
              "      <td>251</td>\n",
              "    </tr>\n",
              "  </tbody>\n",
              "</table>\n",
              "</div>"
            ],
            "text/plain": [
              "Education  \"basic.4y\"  \"basic.6y\"  ...  \"university.degree\"  \"unknown\"\n",
              "Decision                           ...                                \n",
              "0                3748        2104  ...                10498       1480\n",
              "1                 428         188  ...                 1670        251\n",
              "\n",
              "[2 rows x 8 columns]"
            ]
          },
          "metadata": {
            "tags": []
          },
          "execution_count": 29
        }
      ]
    },
    {
      "cell_type": "code",
      "metadata": {
        "id": "VO1NWXZ-cCc4",
        "colab": {
          "base_uri": "https://localhost:8080/"
        },
        "outputId": "03faa7a1-bafe-4e1f-f8dc-668a6b0f5a8f"
      },
      "source": [
        "data=[[3748,2104,5572,8484,14,4647,10498,1480],[428,188,473,1031,4,595,1670,251]]\n",
        "stat, p, dof, expected = chi2_contingency(data)\n",
        "alpha = 0.05\n",
        "print(\"p value is \" + str(p))\n",
        "if p <= alpha:\n",
        "    print('Dependent (reject H0)')\n",
        "else:\n",
        "    print('Independent (H0 holds true)')"
      ],
      "execution_count": 31,
      "outputs": [
        {
          "output_type": "stream",
          "text": [
            "p value is 3.3087221879914e-38\n",
            "Dependent (reject H0)\n"
          ],
          "name": "stdout"
        }
      ]
    },
    {
      "cell_type": "code",
      "metadata": {
        "colab": {
          "base_uri": "https://localhost:8080/",
          "height": 142
        },
        "id": "qh0P5ovPkoUx",
        "outputId": "f66b77c9-168b-458d-d038-f1b8be699b9c"
      },
      "source": [
        "pd.pivot_table(df,index='Decision',columns='Default',values='Unnamed: 0',aggfunc='count')"
      ],
      "execution_count": 32,
      "outputs": [
        {
          "output_type": "execute_result",
          "data": {
            "text/html": [
              "<div>\n",
              "<style scoped>\n",
              "    .dataframe tbody tr th:only-of-type {\n",
              "        vertical-align: middle;\n",
              "    }\n",
              "\n",
              "    .dataframe tbody tr th {\n",
              "        vertical-align: top;\n",
              "    }\n",
              "\n",
              "    .dataframe thead th {\n",
              "        text-align: right;\n",
              "    }\n",
              "</style>\n",
              "<table border=\"1\" class=\"dataframe\">\n",
              "  <thead>\n",
              "    <tr style=\"text-align: right;\">\n",
              "      <th>Default</th>\n",
              "      <th>\"no\"</th>\n",
              "      <th>\"unknown\"</th>\n",
              "      <th>\"yes\"</th>\n",
              "    </tr>\n",
              "    <tr>\n",
              "      <th>Decision</th>\n",
              "      <th></th>\n",
              "      <th></th>\n",
              "      <th></th>\n",
              "    </tr>\n",
              "  </thead>\n",
              "  <tbody>\n",
              "    <tr>\n",
              "      <th>0</th>\n",
              "      <td>28390.0</td>\n",
              "      <td>8154.0</td>\n",
              "      <td>3.0</td>\n",
              "    </tr>\n",
              "    <tr>\n",
              "      <th>1</th>\n",
              "      <td>4197.0</td>\n",
              "      <td>443.0</td>\n",
              "      <td>NaN</td>\n",
              "    </tr>\n",
              "  </tbody>\n",
              "</table>\n",
              "</div>"
            ],
            "text/plain": [
              "Default      \"no\"  \"unknown\"  \"yes\"\n",
              "Decision                           \n",
              "0         28390.0     8154.0    3.0\n",
              "1          4197.0      443.0    NaN"
            ]
          },
          "metadata": {
            "tags": []
          },
          "execution_count": 32
        }
      ]
    },
    {
      "cell_type": "code",
      "metadata": {
        "colab": {
          "base_uri": "https://localhost:8080/"
        },
        "id": "lVYB99nTkomu",
        "outputId": "b4639f33-e8d3-45a8-cb06-0abc30a89a29"
      },
      "source": [
        "data=[[28390,8154,3],[4197,443,0]]\n",
        "stat, p, dof, expected = chi2_contingency(data)\n",
        "alpha = 0.05\n",
        "print(\"p value is \" + str(p))\n",
        "if p <= alpha:\n",
        "    print('Dependent (reject H0)')\n",
        "else:\n",
        "    print('Independent (H0 holds true)')"
      ],
      "execution_count": 33,
      "outputs": [
        {
          "output_type": "stream",
          "text": [
            "p value is 5.084201777808559e-89\n",
            "Dependent (reject H0)\n"
          ],
          "name": "stdout"
        }
      ]
    },
    {
      "cell_type": "code",
      "metadata": {
        "colab": {
          "base_uri": "https://localhost:8080/",
          "height": 142
        },
        "id": "vXOU33UalEQ0",
        "outputId": "d97f042c-5fd2-4620-a526-2f53f27e0ac1"
      },
      "source": [
        "pd.pivot_table(df,index='Decision',columns='Housing',values='Unnamed: 0',aggfunc='count')"
      ],
      "execution_count": 34,
      "outputs": [
        {
          "output_type": "execute_result",
          "data": {
            "text/html": [
              "<div>\n",
              "<style scoped>\n",
              "    .dataframe tbody tr th:only-of-type {\n",
              "        vertical-align: middle;\n",
              "    }\n",
              "\n",
              "    .dataframe tbody tr th {\n",
              "        vertical-align: top;\n",
              "    }\n",
              "\n",
              "    .dataframe thead th {\n",
              "        text-align: right;\n",
              "    }\n",
              "</style>\n",
              "<table border=\"1\" class=\"dataframe\">\n",
              "  <thead>\n",
              "    <tr style=\"text-align: right;\">\n",
              "      <th>Housing</th>\n",
              "      <th>\"no\"</th>\n",
              "      <th>\"unknown\"</th>\n",
              "      <th>\"yes\"</th>\n",
              "    </tr>\n",
              "    <tr>\n",
              "      <th>Decision</th>\n",
              "      <th></th>\n",
              "      <th></th>\n",
              "      <th></th>\n",
              "    </tr>\n",
              "  </thead>\n",
              "  <tbody>\n",
              "    <tr>\n",
              "      <th>0</th>\n",
              "      <td>16596</td>\n",
              "      <td>883</td>\n",
              "      <td>19068</td>\n",
              "    </tr>\n",
              "    <tr>\n",
              "      <th>1</th>\n",
              "      <td>2026</td>\n",
              "      <td>107</td>\n",
              "      <td>2507</td>\n",
              "    </tr>\n",
              "  </tbody>\n",
              "</table>\n",
              "</div>"
            ],
            "text/plain": [
              "Housing    \"no\"  \"unknown\"  \"yes\"\n",
              "Decision                         \n",
              "0         16596        883  19068\n",
              "1          2026        107   2507"
            ]
          },
          "metadata": {
            "tags": []
          },
          "execution_count": 34
        }
      ]
    },
    {
      "cell_type": "code",
      "metadata": {
        "colab": {
          "base_uri": "https://localhost:8080/"
        },
        "id": "8rINF3ePlEmu",
        "outputId": "acce24a5-dac6-4ad2-d3fe-0b6edef018b7"
      },
      "source": [
        "data=[[16596,883,19068],[2026,107,2507]]\n",
        "stat, p, dof, expected = chi2_contingency(data)\n",
        "alpha = 0.05\n",
        "print(\"p value is \" + str(p))\n",
        "if p <= alpha:\n",
        "    print('Dependent (reject H0)')\n",
        "else:\n",
        "    print('Independent (H0 holds true)')"
      ],
      "execution_count": 35,
      "outputs": [
        {
          "output_type": "stream",
          "text": [
            "p value is 0.05806216685367882\n",
            "Independent (H0 holds true)\n"
          ],
          "name": "stdout"
        }
      ]
    },
    {
      "cell_type": "code",
      "metadata": {
        "colab": {
          "base_uri": "https://localhost:8080/",
          "height": 142
        },
        "id": "zNQuINnzldeX",
        "outputId": "e0a3bb7e-0fd5-49b2-a52f-facf81dad08d"
      },
      "source": [
        "pd.pivot_table(df,index='Decision',columns='Loan',values='Unnamed: 0',aggfunc='count')"
      ],
      "execution_count": 36,
      "outputs": [
        {
          "output_type": "execute_result",
          "data": {
            "text/html": [
              "<div>\n",
              "<style scoped>\n",
              "    .dataframe tbody tr th:only-of-type {\n",
              "        vertical-align: middle;\n",
              "    }\n",
              "\n",
              "    .dataframe tbody tr th {\n",
              "        vertical-align: top;\n",
              "    }\n",
              "\n",
              "    .dataframe thead th {\n",
              "        text-align: right;\n",
              "    }\n",
              "</style>\n",
              "<table border=\"1\" class=\"dataframe\">\n",
              "  <thead>\n",
              "    <tr style=\"text-align: right;\">\n",
              "      <th>Loan</th>\n",
              "      <th>\"no\"</th>\n",
              "      <th>\"unknown\"</th>\n",
              "      <th>\"yes\"</th>\n",
              "    </tr>\n",
              "    <tr>\n",
              "      <th>Decision</th>\n",
              "      <th></th>\n",
              "      <th></th>\n",
              "      <th></th>\n",
              "    </tr>\n",
              "  </thead>\n",
              "  <tbody>\n",
              "    <tr>\n",
              "      <th>0</th>\n",
              "      <td>30099</td>\n",
              "      <td>883</td>\n",
              "      <td>5565</td>\n",
              "    </tr>\n",
              "    <tr>\n",
              "      <th>1</th>\n",
              "      <td>3850</td>\n",
              "      <td>107</td>\n",
              "      <td>683</td>\n",
              "    </tr>\n",
              "  </tbody>\n",
              "</table>\n",
              "</div>"
            ],
            "text/plain": [
              "Loan       \"no\"  \"unknown\"  \"yes\"\n",
              "Decision                         \n",
              "0         30099        883   5565\n",
              "1          3850        107    683"
            ]
          },
          "metadata": {
            "tags": []
          },
          "execution_count": 36
        }
      ]
    },
    {
      "cell_type": "code",
      "metadata": {
        "colab": {
          "base_uri": "https://localhost:8080/"
        },
        "id": "g8-o33fHldsn",
        "outputId": "6be57ea2-ea57-450b-b6e1-2542f4624bfe"
      },
      "source": [
        "data=[[30099,883,5565],[3850,107,683]]\n",
        "stat, p, dof, expected = chi2_contingency(data)\n",
        "alpha = 0.05\n",
        "print(\"p value is \" + str(p))\n",
        "if p <= alpha:\n",
        "    print('Dependent (reject H0)')\n",
        "else:\n",
        "    print('Independent (H0 holds true)')"
      ],
      "execution_count": 37,
      "outputs": [
        {
          "output_type": "stream",
          "text": [
            "p value is 0.5781926540874669\n",
            "Independent (H0 holds true)\n"
          ],
          "name": "stdout"
        }
      ]
    },
    {
      "cell_type": "code",
      "metadata": {
        "colab": {
          "base_uri": "https://localhost:8080/",
          "height": 142
        },
        "id": "URs9ZYoXlxWd",
        "outputId": "90810ca4-d1e9-4513-9cd4-f7b3a5d60738"
      },
      "source": [
        "pd.pivot_table(df,index='Decision',columns='Contact',values='Unnamed: 0',aggfunc='count')"
      ],
      "execution_count": 38,
      "outputs": [
        {
          "output_type": "execute_result",
          "data": {
            "text/html": [
              "<div>\n",
              "<style scoped>\n",
              "    .dataframe tbody tr th:only-of-type {\n",
              "        vertical-align: middle;\n",
              "    }\n",
              "\n",
              "    .dataframe tbody tr th {\n",
              "        vertical-align: top;\n",
              "    }\n",
              "\n",
              "    .dataframe thead th {\n",
              "        text-align: right;\n",
              "    }\n",
              "</style>\n",
              "<table border=\"1\" class=\"dataframe\">\n",
              "  <thead>\n",
              "    <tr style=\"text-align: right;\">\n",
              "      <th>Contact</th>\n",
              "      <th>\"cellular\"</th>\n",
              "      <th>\"telephone\"</th>\n",
              "    </tr>\n",
              "    <tr>\n",
              "      <th>Decision</th>\n",
              "      <th></th>\n",
              "      <th></th>\n",
              "    </tr>\n",
              "  </thead>\n",
              "  <tbody>\n",
              "    <tr>\n",
              "      <th>0</th>\n",
              "      <td>22290</td>\n",
              "      <td>14257</td>\n",
              "    </tr>\n",
              "    <tr>\n",
              "      <th>1</th>\n",
              "      <td>3853</td>\n",
              "      <td>787</td>\n",
              "    </tr>\n",
              "  </tbody>\n",
              "</table>\n",
              "</div>"
            ],
            "text/plain": [
              "Contact   \"cellular\"  \"telephone\"\n",
              "Decision                         \n",
              "0              22290        14257\n",
              "1               3853          787"
            ]
          },
          "metadata": {
            "tags": []
          },
          "execution_count": 38
        }
      ]
    },
    {
      "cell_type": "code",
      "metadata": {
        "colab": {
          "base_uri": "https://localhost:8080/"
        },
        "id": "lqCVwxlelxiI",
        "outputId": "60f4cc53-7f5e-49d0-abc0-552b46126d11"
      },
      "source": [
        "data=[[22290,14257],[3853,787]]\n",
        "stat, p, dof, expected = chi2_contingency(data)\n",
        "alpha = 0.05\n",
        "print(\"p value is \" + str(p))\n",
        "if p <= alpha:\n",
        "    print('Dependent (reject H0)')\n",
        "else:\n",
        "    print('Independent (H0 holds true)')"
      ],
      "execution_count": 39,
      "outputs": [
        {
          "output_type": "stream",
          "text": [
            "p value is 1.471973730411481e-189\n",
            "Dependent (reject H0)\n"
          ],
          "name": "stdout"
        }
      ]
    },
    {
      "cell_type": "code",
      "metadata": {
        "colab": {
          "base_uri": "https://localhost:8080/",
          "height": 142
        },
        "id": "H-OS3KdUmG80",
        "outputId": "87f13300-eac9-494a-baef-a327c9dfa1ca"
      },
      "source": [
        "pd.pivot_table(df,index='Decision',columns='Month',values='Unnamed: 0',aggfunc='count')"
      ],
      "execution_count": 40,
      "outputs": [
        {
          "output_type": "execute_result",
          "data": {
            "text/html": [
              "<div>\n",
              "<style scoped>\n",
              "    .dataframe tbody tr th:only-of-type {\n",
              "        vertical-align: middle;\n",
              "    }\n",
              "\n",
              "    .dataframe tbody tr th {\n",
              "        vertical-align: top;\n",
              "    }\n",
              "\n",
              "    .dataframe thead th {\n",
              "        text-align: right;\n",
              "    }\n",
              "</style>\n",
              "<table border=\"1\" class=\"dataframe\">\n",
              "  <thead>\n",
              "    <tr style=\"text-align: right;\">\n",
              "      <th>Month</th>\n",
              "      <th>\"apr\"</th>\n",
              "      <th>\"aug\"</th>\n",
              "      <th>\"dec\"</th>\n",
              "      <th>\"jul\"</th>\n",
              "      <th>\"jun\"</th>\n",
              "      <th>\"mar\"</th>\n",
              "      <th>\"may\"</th>\n",
              "      <th>\"nov\"</th>\n",
              "      <th>\"oct\"</th>\n",
              "      <th>\"sep\"</th>\n",
              "    </tr>\n",
              "    <tr>\n",
              "      <th>Decision</th>\n",
              "      <th></th>\n",
              "      <th></th>\n",
              "      <th></th>\n",
              "      <th></th>\n",
              "      <th></th>\n",
              "      <th></th>\n",
              "      <th></th>\n",
              "      <th></th>\n",
              "      <th></th>\n",
              "      <th></th>\n",
              "    </tr>\n",
              "  </thead>\n",
              "  <tbody>\n",
              "    <tr>\n",
              "      <th>0</th>\n",
              "      <td>2093</td>\n",
              "      <td>5523</td>\n",
              "      <td>93</td>\n",
              "      <td>6525</td>\n",
              "      <td>4759</td>\n",
              "      <td>270</td>\n",
              "      <td>12883</td>\n",
              "      <td>3684</td>\n",
              "      <td>403</td>\n",
              "      <td>314</td>\n",
              "    </tr>\n",
              "    <tr>\n",
              "      <th>1</th>\n",
              "      <td>539</td>\n",
              "      <td>655</td>\n",
              "      <td>89</td>\n",
              "      <td>649</td>\n",
              "      <td>559</td>\n",
              "      <td>276</td>\n",
              "      <td>886</td>\n",
              "      <td>416</td>\n",
              "      <td>315</td>\n",
              "      <td>256</td>\n",
              "    </tr>\n",
              "  </tbody>\n",
              "</table>\n",
              "</div>"
            ],
            "text/plain": [
              "Month     \"apr\"  \"aug\"  \"dec\"  \"jul\"  \"jun\"  \"mar\"  \"may\"  \"nov\"  \"oct\"  \"sep\"\n",
              "Decision                                                                      \n",
              "0          2093   5523     93   6525   4759    270  12883   3684    403    314\n",
              "1           539    655     89    649    559    276    886    416    315    256"
            ]
          },
          "metadata": {
            "tags": []
          },
          "execution_count": 40
        }
      ]
    },
    {
      "cell_type": "code",
      "metadata": {
        "colab": {
          "base_uri": "https://localhost:8080/"
        },
        "id": "hI2RwXolmHI9",
        "outputId": "bdc8db19-d4d6-4f68-f069-f69d27ab5923"
      },
      "source": [
        "data=[[2093,5523,93,6525,4759,270,12883,3684,403,314],[539,655,89,649,559,276,886,416,315,256]]\n",
        "stat, p, dof, expected = chi2_contingency(data)\n",
        "alpha = 0.05\n",
        "print(\"p value is \" + str(p))\n",
        "if p <= alpha:\n",
        "    print('Dependent (reject H0)')\n",
        "else:\n",
        "    print('Independent (H0 holds true)')"
      ],
      "execution_count": 41,
      "outputs": [
        {
          "output_type": "stream",
          "text": [
            "p value is 0.0\n",
            "Dependent (reject H0)\n"
          ],
          "name": "stdout"
        }
      ]
    },
    {
      "cell_type": "code",
      "metadata": {
        "colab": {
          "base_uri": "https://localhost:8080/",
          "height": 142
        },
        "id": "55ZiLg_smsPE",
        "outputId": "da265c19-eba6-4150-93d2-6a10e0a347e0"
      },
      "source": [
        "pd.pivot_table(df,index='Decision',columns='Day',values='Unnamed: 0',aggfunc='count')"
      ],
      "execution_count": 44,
      "outputs": [
        {
          "output_type": "execute_result",
          "data": {
            "text/html": [
              "<div>\n",
              "<style scoped>\n",
              "    .dataframe tbody tr th:only-of-type {\n",
              "        vertical-align: middle;\n",
              "    }\n",
              "\n",
              "    .dataframe tbody tr th {\n",
              "        vertical-align: top;\n",
              "    }\n",
              "\n",
              "    .dataframe thead th {\n",
              "        text-align: right;\n",
              "    }\n",
              "</style>\n",
              "<table border=\"1\" class=\"dataframe\">\n",
              "  <thead>\n",
              "    <tr style=\"text-align: right;\">\n",
              "      <th>Day</th>\n",
              "      <th>\"fri\"</th>\n",
              "      <th>\"mon\"</th>\n",
              "      <th>\"thu\"</th>\n",
              "      <th>\"tue\"</th>\n",
              "      <th>\"wed\"</th>\n",
              "    </tr>\n",
              "    <tr>\n",
              "      <th>Decision</th>\n",
              "      <th></th>\n",
              "      <th></th>\n",
              "      <th></th>\n",
              "      <th></th>\n",
              "      <th></th>\n",
              "    </tr>\n",
              "  </thead>\n",
              "  <tbody>\n",
              "    <tr>\n",
              "      <th>0</th>\n",
              "      <td>6980</td>\n",
              "      <td>7667</td>\n",
              "      <td>7578</td>\n",
              "      <td>7137</td>\n",
              "      <td>7185</td>\n",
              "    </tr>\n",
              "    <tr>\n",
              "      <th>1</th>\n",
              "      <td>846</td>\n",
              "      <td>847</td>\n",
              "      <td>1045</td>\n",
              "      <td>953</td>\n",
              "      <td>949</td>\n",
              "    </tr>\n",
              "  </tbody>\n",
              "</table>\n",
              "</div>"
            ],
            "text/plain": [
              "Day       \"fri\"  \"mon\"  \"thu\"  \"tue\"  \"wed\"\n",
              "Decision                                   \n",
              "0          6980   7667   7578   7137   7185\n",
              "1           846    847   1045    953    949"
            ]
          },
          "metadata": {
            "tags": []
          },
          "execution_count": 44
        }
      ]
    },
    {
      "cell_type": "code",
      "metadata": {
        "colab": {
          "base_uri": "https://localhost:8080/"
        },
        "id": "50PLyOJlmsb5",
        "outputId": "fcdfe669-9413-43ee-cec9-a8699c4fb7d2"
      },
      "source": [
        "data=[[6980,7667,7578,7137,7185],[846,847,1045,953,949]]\n",
        "stat, p, dof, expected = chi2_contingency(data)\n",
        "alpha = 0.05\n",
        "print(\"p value is \" + str(p))\n",
        "if p <= alpha:\n",
        "    print('Dependent (reject H0)')\n",
        "else:\n",
        "    print('Independent (H0 holds true)')"
      ],
      "execution_count": 45,
      "outputs": [
        {
          "output_type": "stream",
          "text": [
            "p value is 2.9731201830848005e-05\n",
            "Dependent (reject H0)\n"
          ],
          "name": "stdout"
        }
      ]
    },
    {
      "cell_type": "code",
      "metadata": {
        "colab": {
          "base_uri": "https://localhost:8080/",
          "height": 142
        },
        "id": "EWp_uMy4nIV0",
        "outputId": "9527fd46-3fe3-49a1-f94d-307986ccb25f"
      },
      "source": [
        "pd.pivot_table(df,index='Decision',columns='Pdays',values='Unnamed: 0',aggfunc='count')"
      ],
      "execution_count": 46,
      "outputs": [
        {
          "output_type": "execute_result",
          "data": {
            "text/html": [
              "<div>\n",
              "<style scoped>\n",
              "    .dataframe tbody tr th:only-of-type {\n",
              "        vertical-align: middle;\n",
              "    }\n",
              "\n",
              "    .dataframe tbody tr th {\n",
              "        vertical-align: top;\n",
              "    }\n",
              "\n",
              "    .dataframe thead th {\n",
              "        text-align: right;\n",
              "    }\n",
              "</style>\n",
              "<table border=\"1\" class=\"dataframe\">\n",
              "  <thead>\n",
              "    <tr style=\"text-align: right;\">\n",
              "      <th>Pdays</th>\n",
              "      <th>0</th>\n",
              "      <th>1</th>\n",
              "      <th>2</th>\n",
              "      <th>3</th>\n",
              "      <th>4</th>\n",
              "      <th>5</th>\n",
              "      <th>6</th>\n",
              "      <th>7</th>\n",
              "      <th>8</th>\n",
              "      <th>9</th>\n",
              "      <th>10</th>\n",
              "      <th>11</th>\n",
              "      <th>12</th>\n",
              "      <th>13</th>\n",
              "      <th>14</th>\n",
              "      <th>15</th>\n",
              "      <th>16</th>\n",
              "      <th>17</th>\n",
              "      <th>18</th>\n",
              "      <th>19</th>\n",
              "      <th>20</th>\n",
              "      <th>21</th>\n",
              "      <th>22</th>\n",
              "      <th>25</th>\n",
              "      <th>26</th>\n",
              "      <th>27</th>\n",
              "      <th>999</th>\n",
              "    </tr>\n",
              "    <tr>\n",
              "      <th>Decision</th>\n",
              "      <th></th>\n",
              "      <th></th>\n",
              "      <th></th>\n",
              "      <th></th>\n",
              "      <th></th>\n",
              "      <th></th>\n",
              "      <th></th>\n",
              "      <th></th>\n",
              "      <th></th>\n",
              "      <th></th>\n",
              "      <th></th>\n",
              "      <th></th>\n",
              "      <th></th>\n",
              "      <th></th>\n",
              "      <th></th>\n",
              "      <th></th>\n",
              "      <th></th>\n",
              "      <th></th>\n",
              "      <th></th>\n",
              "      <th></th>\n",
              "      <th></th>\n",
              "      <th></th>\n",
              "      <th></th>\n",
              "      <th></th>\n",
              "      <th></th>\n",
              "      <th></th>\n",
              "      <th></th>\n",
              "    </tr>\n",
              "  </thead>\n",
              "  <tbody>\n",
              "    <tr>\n",
              "      <th>0</th>\n",
              "      <td>5.0</td>\n",
              "      <td>18.0</td>\n",
              "      <td>24.0</td>\n",
              "      <td>141.0</td>\n",
              "      <td>55.0</td>\n",
              "      <td>17.0</td>\n",
              "      <td>123.0</td>\n",
              "      <td>20.0</td>\n",
              "      <td>6.0</td>\n",
              "      <td>29.0</td>\n",
              "      <td>22.0</td>\n",
              "      <td>13.0</td>\n",
              "      <td>32.0</td>\n",
              "      <td>8.0</td>\n",
              "      <td>9.0</td>\n",
              "      <td>8.0</td>\n",
              "      <td>5.0</td>\n",
              "      <td>6.0</td>\n",
              "      <td>3.0</td>\n",
              "      <td>2.0</td>\n",
              "      <td>1.0</td>\n",
              "      <td>NaN</td>\n",
              "      <td>1.0</td>\n",
              "      <td>NaN</td>\n",
              "      <td>NaN</td>\n",
              "      <td>NaN</td>\n",
              "      <td>35999.0</td>\n",
              "    </tr>\n",
              "    <tr>\n",
              "      <th>1</th>\n",
              "      <td>10.0</td>\n",
              "      <td>8.0</td>\n",
              "      <td>37.0</td>\n",
              "      <td>298.0</td>\n",
              "      <td>63.0</td>\n",
              "      <td>29.0</td>\n",
              "      <td>289.0</td>\n",
              "      <td>40.0</td>\n",
              "      <td>12.0</td>\n",
              "      <td>35.0</td>\n",
              "      <td>30.0</td>\n",
              "      <td>15.0</td>\n",
              "      <td>26.0</td>\n",
              "      <td>28.0</td>\n",
              "      <td>11.0</td>\n",
              "      <td>16.0</td>\n",
              "      <td>6.0</td>\n",
              "      <td>2.0</td>\n",
              "      <td>4.0</td>\n",
              "      <td>1.0</td>\n",
              "      <td>NaN</td>\n",
              "      <td>2.0</td>\n",
              "      <td>2.0</td>\n",
              "      <td>1.0</td>\n",
              "      <td>1.0</td>\n",
              "      <td>1.0</td>\n",
              "      <td>3673.0</td>\n",
              "    </tr>\n",
              "  </tbody>\n",
              "</table>\n",
              "</div>"
            ],
            "text/plain": [
              "Pdays      0     1     2      3     4     5    ...  21   22   25   26   27       999\n",
              "Decision                                       ...                                  \n",
              "0          5.0  18.0  24.0  141.0  55.0  17.0  ...  NaN  1.0  NaN  NaN  NaN  35999.0\n",
              "1         10.0   8.0  37.0  298.0  63.0  29.0  ...  2.0  2.0  1.0  1.0  1.0   3673.0\n",
              "\n",
              "[2 rows x 27 columns]"
            ]
          },
          "metadata": {
            "tags": []
          },
          "execution_count": 46
        }
      ]
    },
    {
      "cell_type": "code",
      "metadata": {
        "colab": {
          "base_uri": "https://localhost:8080/"
        },
        "id": "aa7ftNRUnIiY",
        "outputId": "d7f42e31-bcd1-4c5d-f888-c7dd194db323"
      },
      "source": [
        "data=[[5,18,24,141,55,17,123,20,6,29,22,13,32,8,9,8,5,6,3,2,1,0,1,0,0,0,35999],[10,8,37,298,63,29,289,40,12,35,30,15,26,28,11,16,6,2,4,1,0,2,2,1,1,1,3673]]\n",
        "stat, p, dof, expected = chi2_contingency(data)\n",
        "alpha = 0.05\n",
        "print(\"p value is \" + str(p))\n",
        "if p <= alpha:\n",
        "    print('Dependent (reject H0)')\n",
        "else:\n",
        "    print('Independent (H0 holds true)')"
      ],
      "execution_count": 47,
      "outputs": [
        {
          "output_type": "stream",
          "text": [
            "p value is 0.0\n",
            "Dependent (reject H0)\n"
          ],
          "name": "stdout"
        }
      ]
    },
    {
      "cell_type": "code",
      "metadata": {
        "colab": {
          "base_uri": "https://localhost:8080/",
          "height": 142
        },
        "id": "HfchGsjWn-it",
        "outputId": "2ddf9964-2802-4565-c418-e79aa9301546"
      },
      "source": [
        "pd.pivot_table(df,index='Decision',columns='Poutcome',values='Unnamed: 0',aggfunc='count')"
      ],
      "execution_count": 48,
      "outputs": [
        {
          "output_type": "execute_result",
          "data": {
            "text/html": [
              "<div>\n",
              "<style scoped>\n",
              "    .dataframe tbody tr th:only-of-type {\n",
              "        vertical-align: middle;\n",
              "    }\n",
              "\n",
              "    .dataframe tbody tr th {\n",
              "        vertical-align: top;\n",
              "    }\n",
              "\n",
              "    .dataframe thead th {\n",
              "        text-align: right;\n",
              "    }\n",
              "</style>\n",
              "<table border=\"1\" class=\"dataframe\">\n",
              "  <thead>\n",
              "    <tr style=\"text-align: right;\">\n",
              "      <th>Poutcome</th>\n",
              "      <th>\"failure\"</th>\n",
              "      <th>\"nonexistent\"</th>\n",
              "      <th>\"success\"</th>\n",
              "    </tr>\n",
              "    <tr>\n",
              "      <th>Decision</th>\n",
              "      <th></th>\n",
              "      <th></th>\n",
              "      <th></th>\n",
              "    </tr>\n",
              "  </thead>\n",
              "  <tbody>\n",
              "    <tr>\n",
              "      <th>0</th>\n",
              "      <td>3646</td>\n",
              "      <td>32422</td>\n",
              "      <td>479</td>\n",
              "    </tr>\n",
              "    <tr>\n",
              "      <th>1</th>\n",
              "      <td>605</td>\n",
              "      <td>3141</td>\n",
              "      <td>894</td>\n",
              "    </tr>\n",
              "  </tbody>\n",
              "</table>\n",
              "</div>"
            ],
            "text/plain": [
              "Poutcome  \"failure\"  \"nonexistent\"  \"success\"\n",
              "Decision                                     \n",
              "0              3646          32422        479\n",
              "1               605           3141        894"
            ]
          },
          "metadata": {
            "tags": []
          },
          "execution_count": 48
        }
      ]
    },
    {
      "cell_type": "code",
      "metadata": {
        "colab": {
          "base_uri": "https://localhost:8080/"
        },
        "id": "rpT_ijhFn-r_",
        "outputId": "fff51a8f-1e8d-4813-8874-172421570a21"
      },
      "source": [
        "data=[[3646,32422,479],[605,3141,894]]\n",
        "stat, p, dof, expected = chi2_contingency(data)\n",
        "alpha = 0.05\n",
        "print(\"p value is \" + str(p))\n",
        "if p <= alpha:\n",
        "    print('Dependent (reject H0)')\n",
        "else:\n",
        "    print('Independent (H0 holds true)')"
      ],
      "execution_count": 49,
      "outputs": [
        {
          "output_type": "stream",
          "text": [
            "p value is 0.0\n",
            "Dependent (reject H0)\n"
          ],
          "name": "stdout"
        }
      ]
    },
    {
      "cell_type": "code",
      "metadata": {
        "id": "62cJY33SLbOk"
      },
      "source": [
        "### Result : variables with p value less than alpha have correlation with our target which is Decision\n",
        "#These variables are : Job, Marital, Education, Default, Contact, Month, Day, Pdays, Poutcome\n",
        "#What these variables represent: type of job, marital status, education, has credit in default?, contact communication type,  last contact month of year, last contact day of the week, \n",
        "#number of days that passed by after the client was last contacted from a previous campaign, outcome of the previous marketing campaign"
      ],
      "execution_count": null,
      "outputs": []
    },
    {
      "cell_type": "code",
      "metadata": {
        "id": "LyIn0txbpvCZ"
      },
      "source": [
        "#Now I have found the numeric and categorical variables that have correlation with our target, Decision\n",
        "#I will develop the machine learning models in the next part by these variables"
      ],
      "execution_count": null,
      "outputs": []
    }
  ]
}